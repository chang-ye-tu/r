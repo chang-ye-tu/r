{
    "cells": [
        {
            "cell_type": "markdown",
            "metadata": {},
            "source": [
                "# Data Importing and \"Tidy\" Data\n",
                "\n",
                "### Needed packages"
            ]
        },
        {
            "cell_type": "code",
            "execution_count": null,
            "metadata": {},
            "outputs": [],
            "source": [
                "library(tidyverse)\n",
                "library(nycflights13)\n",
                "library(fivethirtyeight)\n",
                "# Packages needed internally\n",
                "library(kableExtra)\n",
                "library(knitr)\n",
                "library(IRdisplay)\n",
                "library(patchwork)"
            ]
        },
        {
            "cell_type": "markdown",
            "metadata": {},
            "source": [
                "## Importing data\n",
                "\n",
                "- Spreadsheet data is often saved in:\n",
                "  - *Comma Separated Values* `.csv` file \n",
                "    * Each line in the file corresponds to one row of data/one observation\n",
                "    * The values of different variables are separated by commas in each row\n",
                "    * The first line is often, but not always, a *header* row indicating the names of the columns/variables\n",
                "  - Excel `.xlsx` spreadsheet file\n",
                "    - MicroSoft proprietary Excel software\n",
                "    - `.xlsx` Excel files contain a lot of meta-data, include the use of bold and italic fonts, colored cells, different column widths, and formula macros\n",
                "  - [Google Sheets](https://www.google.com/sheets/about/) file\n",
                "    - A \"cloud\" or online-based way to work with a spreadsheet\n",
                "    - Not discussed here\n",
                "\n",
                "### Using the console\n",
                "\n",
                "- Use the `read_csv()` function from `readr` (part of `tidyverse`) to read it off the web, import it into R, and save it in a data frame called `dem_score`"
            ]
        },
        {
            "cell_type": "code",
            "execution_count": null,
            "metadata": {},
            "outputs": [],
            "source": "(dem_score <- read_csv(\"https://moderndive.com/data/dem_score.csv\"))"
        },
        {
            "cell_type": "markdown",
            "metadata": {},
            "source": [
                "- `read_csv()` in `readr` is different from `read.csv()` in base-R\n",
                "  - `read_csv()` saves data frames as `tibbles` by default\n",
                "  - `read_csv()` is faster; overall is better  \n",
                "\n",
                "## \"Tidy\" data\n",
                "\n",
                "- A motivating example from the `fivethirtyeight` package\n",
                "  - Look at the first 5 rows of the `drinks` data frame"
            ]
        },
        {
            "cell_type": "code",
            "execution_count": null,
            "metadata": {},
            "outputs": [],
            "source": [
                "drinks %>%\n",
                "    head(5)"
            ]
        },
        {
            "cell_type": "markdown",
            "metadata": {},
            "source": [
                "- Tasks:\n",
                "  1. `filter()` the `drinks` data frame to only consider 4 countries: the United States, China, Italy, and Saudi Arabia, *then*\n",
                "  1. `select()` all columns except `total_litres_of_pure_alcohol` by using the `-` sign, *then*\n",
                "  1. `rename()` the variables `beer_servings`, `spirit_servings`, and `wine_servings` to `beer`, `spirit`, and `wine`, respectively\n",
                "  1. Save the resulting data frame in `drinks_smaller`"
            ]
        },
        {
            "cell_type": "code",
            "execution_count": null,
            "metadata": {},
            "outputs": [],
            "source": [
                "drinks_smaller <- drinks %>%\n",
                "    filter(country %in% c(\"USA\", \"China\", \"Italy\", \"Saudi Arabia\")) %>% \n",
                "    select(-total_litres_of_pure_alcohol) %>% \n",
                "    rename(beer = beer_servings, \n",
                "           spirit = spirit_servings,\n",
                "           wine = wine_servings)"
            ]
        },
        {
            "cell_type": "markdown",
            "metadata": {},
            "source": "- Create the side-by-side barplot"
        },
        {
            "cell_type": "code",
            "execution_count": null,
            "metadata": {},
            "outputs": [],
            "source": [
                "# Will be explained later ...\n",
                "drinks_smaller_tidy <- drinks_smaller %>% \n",
                "     pivot_longer(names_to = \"type\", \n",
                "                  values_to = \"servings\", \n",
                "                  cols = -country)\n",
                "drink_smaller_tidy_plot <- ggplot(drinks_smaller_tidy,\n",
                "    aes(x = country, y = servings, fill = type)) +\n",
                "    geom_col(position = \"dodge\") +\n",
                "    labs(x = \"country\", y = \"servings\")"
            ]
        },
        {
            "cell_type": "markdown",
            "metadata": {},
            "source": [
                "1. The categorical variable `country` with four levels (China, Italy, Saudi Arabia, USA) would have to be mapped to the `x`-position of the bars\n",
                "1. The numerical variable `servings` would have to be mapped to the `y`-position of the bars (the height of the bars)\n",
                "1. The categorical variable `type` with three levels (beer, spirit, wine) would have to be mapped to the `fill` color of the bars"
            ]
        },
        {
            "cell_type": "code",
            "execution_count": null,
            "metadata": {},
            "outputs": [],
            "source": "drinks_smaller_tidy"
        },
        {
            "cell_type": "markdown",
            "metadata": {},
            "source": [
                "- `drinks_smaller`: [\"wide\"](https://en.wikipedia.org/wiki/Wide_and_narrow_data) format\n",
                "- `drinks_smaller_tidy` : [\"long/narrow\"](https://en.wikipedia.org/wiki/Wide_and_narrow_data#Narrow) format\n",
                "  - THE \"tidy\" format: preferred in `tidyverse` \n",
                "\n",
                "### Definition of \"tidy\" data\n",
                "\n",
                "> \"Tidy\" data is a standard way of mapping the meaning of a dataset to its structure; in *tidy data*:\n",
                ">\n",
                "> 1. Each variable forms a column\n",
                "> 2. Each observation forms a row\n",
                "> 3. Each type of observational unit forms a table\n",
                "\n",
                "![Data Tidy Principle](./fig/tidy-1.png)\n",
                "\n",
                "- Say you have the following table of stock prices:"
            ]
        },
        {
            "cell_type": "code",
            "execution_count": null,
            "metadata": {},
            "outputs": [],
            "source": [
                "stocks <- tibble(\n",
                "    Date = as.Date(\"2009-01-01\") + 0:4,\n",
                "    `Boeing stock price` = paste(\"$\", c(\"173.55\", \"172.61\", \"173.86\", \"170.77\", \"174.29\"), sep = \"\"),\n",
                "    `Amazon stock price` = paste(\"$\", c(\"174.90\", \"171.42\", \"171.58\", \"173.89\", \"170.16\"), sep = \"\"),\n",
                "    `Google stock price` = paste(\"$\", c(\"174.34\", \"170.04\", \"173.65\", \"174.87\", \"172.19\"), sep = \"\")) %>%\n",
                "    slice(1:2)\n",
                "\n",
                "stocks %>%\n",
                "    kable(digits = 2,\n",
                "          caption = \"Stock prices (non-tidy format)\",\n",
                "          booktabs = TRUE,\n",
                "          linesep = \"\") %>%\n",
                "    kable_styling(font_size = 16) %>%\n",
                "    as.character() %>%\n",
                "    display_html()"
            ]
        },
        {
            "cell_type": "markdown",
            "metadata": {},
            "source": "- 2nd version"
        },
        {
            "cell_type": "code",
            "execution_count": null,
            "metadata": {},
            "outputs": [],
            "source": [
                "stocks_tidy <- stocks %>%\n",
                "    rename(Boeing = `Boeing stock price`,\n",
                "           Amazon = `Amazon stock price`,\n",
                "           Google = `Google stock price`) %>%\n",
                "    pivot_longer(cols = -Date,\n",
                "                 names_to = \"Stock Name\",\n",
                "                 values_to = \"Stock Price\")\n",
                "stocks_tidy %>%\n",
                "      kable(digits = 2,\n",
                "            caption = \"Stock prices (tidy format)\",\n",
                "            booktabs = TRUE,\n",
                "            linesep = \"\") %>%\n",
                "      kable_styling(font_size = 16) %>%\n",
                "      as.character() %>%\n",
                "      display_html()"
            ]
        },
        {
            "cell_type": "markdown",
            "metadata": {},
            "source": "- 3rd version"
        },
        {
            "cell_type": "code",
            "execution_count": null,
            "metadata": {},
            "outputs": [],
            "source": [
                "stocks <- tibble(Date = as.Date(\"2009-01-01\") + 0:4,\n",
                "    `Boeing Price` = paste(\"$\", c(\"173.55\", \"172.61\", \"173.86\", \"170.77\", \"174.29\"), sep = \"\"),\n",
                "    `Weather` = c(\"Sunny\", \"Overcast\", \"Rain\", \"Rain\", \"Sunny\")) %>%\n",
                "     slice(1:2)\n",
                "\n",
                "stocks %>%\n",
                "    kable(digits = 2,\n",
                "          caption = \"Example of tidy data\") %>%\n",
                "    kable_styling(font_size = 16) %>%\n",
                "    as.character() %>%\n",
                "    display_html()"
            ]
        },
        {
            "cell_type": "markdown",
            "metadata": {},
            "source": [
                "- The data *is* \"tidy\" since there are three variables corresponding to three unique pieces of information: Date, Boeing price, and the Weather that particular day\n",
                "\n",
                "### Converting to \"tidy\" data"
            ]
        },
        {
            "cell_type": "code",
            "execution_count": null,
            "metadata": {},
            "outputs": [],
            "source": "drinks_smaller"
        },
        {
            "cell_type": "markdown",
            "metadata": {},
            "source": "- Convert it to \"tidy\" format by using `pivot_longer()` from `tidyverse` as follows:"
        },
        {
            "cell_type": "code",
            "execution_count": null,
            "metadata": {},
            "outputs": [],
            "source": [
                "(drinks_smaller_tidy <- drinks_smaller %>% \n",
                "     pivot_longer(names_to = \"type\", \n",
                "                  values_to = \"servings\", \n",
                "                  cols = -country))"
            ]
        },
        {
            "cell_type": "markdown",
            "metadata": {},
            "source": "- Different code that produces the same output:"
        },
        {
            "cell_type": "code",
            "execution_count": null,
            "metadata": {},
            "outputs": [],
            "source": [
                "drinks_smaller %>% \n",
                "    pivot_longer(names_to = \"type\", \n",
                "                 values_to = \"servings\", \n",
                "                 cols = c(beer, spirit, wine))"
            ]
        },
        {
            "cell_type": "markdown",
            "metadata": {},
            "source": "- Also for consecutive columns:"
        },
        {
            "cell_type": "code",
            "execution_count": null,
            "metadata": {},
            "outputs": [],
            "source": [
                "drinks_smaller %>% \n",
                "    pivot_longer(names_to = \"type\", \n",
                "                 values_to = \"servings\", \n",
                "                 cols = beer:wine)"
            ]
        },
        {
            "cell_type": "markdown",
            "metadata": {},
            "source": "- Now we can produce the barplot: use `geom_col()` and not `geom_bar()` for we can map the \"pre-counted\" `servings` variable to the `y`-aesthetic of the bars"
        },
        {
            "cell_type": "code",
            "execution_count": null,
            "metadata": {},
            "outputs": [],
            "source": [
                "ggplot(drinks_smaller_tidy,  \n",
                "    aes(x = country, y = servings, fill = type)) +\n",
                "    geom_col(position = \"dodge\")"
            ]
        },
        {
            "cell_type": "markdown",
            "metadata": {},
            "source": [
                "- Tips:\n",
                "  - Examples of `pivot_longer()` and `pivot_wider()` on the [tidyverse.org](https://tidyr.tidyverse.org/dev/articles/pivot.html#pew) webpage\n",
                "    - Check out the different functions available for data tidying and a case study using data from the World Health Organization \n",
                "  - Example Data Sets: The R4DS Online Learning Community [TidyTuesday event](https://github.com/rfordatascience/tidytuesday) \n",
                "\n",
                "## Learning Check\n",
                "\n",
                "Take a look the `airline_safety` data frame included in the `fivethirtyeight` data. Run the following:"
            ]
        },
        {
            "cell_type": "code",
            "execution_count": null,
            "metadata": {},
            "outputs": [],
            "source": "airline_safety"
        },
        {
            "cell_type": "markdown",
            "metadata": {},
            "source": "After reading the help file by running `?airline_safety`, we see that `airline_safety` is a data frame containing information on different airlines companies' safety records. This data was originally reported on the data journalism website FiveThirtyEight.com in Nate Silver's article [\"Should Travelers Avoid Flying Airlines That Have Had Crashes in the Past?\"](https://fivethirtyeight.com/features/should-travelers-avoid-flying-airlines-that-have-had-crashes-in-the-past/). Ignore the `incl_reg_subsidiaries` and `avail_seat_km_per_week` variables for simplicity:"
        },
        {
            "cell_type": "code",
            "execution_count": null,
            "metadata": {},
            "outputs": [],
            "source": [
                "airline_safety_smaller <- airline_safety %>%\n",
                "    select(-c(incl_reg_subsidiaries, avail_seat_km_per_week))\n",
                "airline_safety_smaller"
            ]
        },
        {
            "cell_type": "markdown",
            "metadata": {},
            "source": [
                "This data frame is not in \"tidy\" format. How would you convert this data frame to be in \"tidy\" format, in particular so that it has a variable `incident_type_years` indicating the incident type/year and a variable `count` of the counts?\n",
                "\n",
                "**Solution**: \n",
                "\n",
                "This can been done using the `pivot_longer()` function from the `tidyr` package:"
            ]
        },
        {
            "cell_type": "code",
            "execution_count": null,
            "metadata": {},
            "outputs": [],
            "source": [
                "airline_safety_smaller_tidy <- airline_safety_smaller %>%\n",
                "    pivot_longer(names_to = \"incident_type_years\",\n",
                "                 values_to = \"count\",\n",
                "                 cols = -airline)\n",
                "airline_safety_smaller_tidy"
            ]
        },
        {
            "cell_type": "markdown",
            "metadata": {},
            "source": [
                "If you look at the resulting `airline_safety_smaller_tidy` data frame in the spreadsheet viewer, you'll see that the variable `incident_type_years` has 6 possible values: `\"incidents_85_99\", \"fatal_accidents_85_99\", \"fatalities_85_99\", \n",
                "\"incidents_00_14\", \"fatal_accidents_00_14\", \"fatalities_00_14\"` corresponding to the 6 columns of `airline_safety_smaller` we tidied. \n",
                "\n",
                "## Case study: Democracy in Guatemala\n",
                "\n",
                "- Aim: produce a *time-series plot* showing how the democracy scores have changed over the 40 years from 1952 to 1992 for Guatemala\n",
                "  - using `geom_line()`"
            ]
        },
        {
            "cell_type": "code",
            "execution_count": null,
            "metadata": {},
            "outputs": [],
            "source": [
                "(guat_dem <- dem_score %>% \n",
                "    filter(country == \"Guatemala\"))"
            ]
        },
        {
            "cell_type": "markdown",
            "metadata": {},
            "source": [
                "- Steps\n",
                "\n",
                "  - Set `data = guat_dem` and use `geom_line()` layer \t\n",
                "  - Need to map\n",
                "    * `year` to the x-position aesthetic\n",
                "    * `democracy_score` to the y-position aesthetic\n",
                "    * years in `guat_dem` $\\Rightarrow$ `year` , democracy score values in `guat_dem` $\\Rightarrow$ `democracy_score` \n",
                "  - Resulting data frame with variables  `country`, `year`, `democracy_score`"
            ]
        },
        {
            "cell_type": "code",
            "execution_count": null,
            "metadata": {},
            "outputs": [],
            "source": [
                "(guat_dem_tidy <- guat_dem %>% \n",
                "     pivot_longer(names_to = \"year\", \n",
                "                  values_to = \"democracy_score\", \n",
                "                  cols = -country,\n",
                "                  names_transform = list(year = as.integer)))"
            ]
        },
        {
            "cell_type": "markdown",
            "metadata": {},
            "source": [
                "1. `names_to` is the name of the variable in the new \"tidy\" data frame that will contain the *column names* of the original data\n",
                "1. `values_to` is the name of the variable in the new \"tidy\" data frame that will contain the *values* of the original data\n",
                "1. `cols` is the columns you either want to or don't want to \"tidy\" \n",
                "1. The last argument of `names_transform` tells R what type of variable `year` should be set to; `pivot_longer()` will set it to be a character value by default\n",
                "\n",
                "- Create the time-series plot to visualize how democracy scores in Guatemala have changed from 1952 to 1992 \n",
                "- Use the `labs()` function to add informative labels"
            ]
        },
        {
            "cell_type": "code",
            "execution_count": null,
            "metadata": {},
            "outputs": [],
            "source": [
                "ggplot(guat_dem_tidy, \n",
                "       aes(x = year, y = democracy_score)) +\n",
                "    geom_line() +\n",
                "    labs(x = \"Year\", y = \"Democracy Score\")"
            ]
        },
        {
            "cell_type": "markdown",
            "metadata": {},
            "source": "- What if we forgot to include the `names_transform`?"
        },
        {
            "cell_type": "code",
            "execution_count": null,
            "metadata": {},
            "outputs": [],
            "source": [
                "guat_dem_tidy <- guat_dem %>% \n",
                "     pivot_longer(names_to = \"year\", \n",
                "                  values_to = \"democracy_score\", \n",
                "                  cols = -country) \n",
                "ggplot(guat_dem_tidy, \n",
                "       aes(x = year, y = democracy_score)) +\n",
                "    geom_line() +\n",
                "    labs(x = \"Year\", y = \"Democracy Score\")"
            ]
        },
        {
            "cell_type": "markdown",
            "metadata": {},
            "source": [
                "## Learning Check\n",
                "\n",
                "Convert the `dem_score` data frame into a tidy data frame and assign the name of `dem_score_tidy` to the resulting long-formatted data frame.\n",
                "\n",
                "**Solution**: Running the following in the console:"
            ]
        },
        {
            "cell_type": "code",
            "execution_count": null,
            "metadata": {},
            "outputs": [],
            "source": [
                "dem_score_tidy <- dem_score %>%\n",
                "  pivot_longer(names_to = \"year\", \n",
                "               values_to = \"democracy_score\",\n",
                "               cols = -country)"
            ]
        },
        {
            "cell_type": "markdown",
            "metadata": {},
            "source": "Let's now compare the `dem_score` and `dem_score_tidy`. `dem_score` has democracy score information for each year in columns, whereas in `dem_score_tidy` there are explicit variables `year` and `democracy_score`. While both representations of the data contain the same information, we can only use `ggplot()` to create plots using the `dem_score_tidy` data frame."
        },
        {
            "cell_type": "code",
            "execution_count": null,
            "metadata": {},
            "outputs": [],
            "source": [
                "dem_score\n",
                "dem_score_tidy"
            ]
        },
        {
            "cell_type": "markdown",
            "metadata": {},
            "source": [
                "---\n",
                "\n",
                "Read in the life expectancy data stored at <https://moderndive.com/data/le_mess.csv> and convert it to a tidy data frame. \n",
                "\n",
                "**Solution**:"
            ]
        },
        {
            "cell_type": "code",
            "execution_count": null,
            "metadata": {},
            "outputs": [],
            "source": [
                "life_expectancy <- read_csv(\"https://moderndive.com/data/le_mess.csv\")\n",
                "life_expectancy_tidy <- life_expectancy %>%\n",
                "    pivot_longer(names_to = \"year\",\n",
                "                 values_to = \"life_expectancy\",\n",
                "                 cols = -country)"
            ]
        },
        {
            "cell_type": "markdown",
            "metadata": {},
            "source": "We observe the same construct structure with respect to `year` in `life_expectancy` vs `life_expectancy_tidy` as we did in `dem_score` vs `dem_score_tidy`:"
        },
        {
            "cell_type": "code",
            "execution_count": null,
            "metadata": {},
            "outputs": [],
            "source": [
                "life_expectancy\n",
                "life_expectancy_tidy"
            ]
        }
    ],
    "metadata": {
        "anaconda-cloud": "",
        "kernelspec": {
            "display_name": "R",
            "langauge": "R",
            "name": "ir"
        },
        "language_info": {
            "codemirror_mode": "r",
            "file_extension": ".r",
            "mimetype": "text/x-r-source",
            "name": "R",
            "pygments_lexer": "r",
            "version": "4.1.3"
        }
    },
    "nbformat": 4,
    "nbformat_minor": 1
}
