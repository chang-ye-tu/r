{
    "cells": [
        {
            "cell_type": "markdown",
            "metadata": {},
            "source": [
                "# `tidyverse`: First Encounter\n",
                "\n",
                "## Prerequisites\n",
                "\n",
                "### loading `tidyverse`"
            ]
        },
        {
            "cell_type": "code",
            "execution_count": null,
            "metadata": {},
            "outputs": [],
            "source": "library(tidyverse)"
        },
        {
            "cell_type": "markdown",
            "metadata": {},
            "source": [
                "\n",
                "### loading dataset `nycflights13`"
            ]
        },
        {
            "cell_type": "code",
            "execution_count": null,
            "metadata": {},
            "outputs": [],
            "source": "library(nycflights13)"
        },
        {
            "cell_type": "markdown",
            "metadata": {},
            "source": [
                "\n",
                "### print the sub dataset `flights` from `nycflights13`"
            ]
        },
        {
            "cell_type": "code",
            "execution_count": null,
            "metadata": {},
            "outputs": [],
            "source": "flights"
        },
        {
            "cell_type": "markdown",
            "metadata": {},
            "source": [
                "## Choosing columns: `select`, `rename`\n",
                "\n",
                "### pick columns: `select()`"
            ]
        },
        {
            "cell_type": "code",
            "execution_count": null,
            "metadata": {},
            "outputs": [],
            "source": "flights %>% select(carrier, flight)"
        },
        {
            "cell_type": "markdown",
            "metadata": {},
            "source": [
                "\n",
                "### hide columns: `select()` with minus signs"
            ]
        },
        {
            "cell_type": "code",
            "execution_count": null,
            "metadata": {},
            "outputs": [],
            "source": "flights %>% select(-month, -day)"
        },
        {
            "cell_type": "markdown",
            "metadata": {},
            "source": [
                "\n",
                "### hide a range of columns: range"
            ]
        },
        {
            "cell_type": "code",
            "execution_count": null,
            "metadata": {},
            "outputs": [],
            "source": "flights %>% select(-(dep_time:arr_delay))"
        },
        {
            "cell_type": "markdown",
            "metadata": {},
            "source": [
                "\n",
                "### hide any column with a matching name: `contains()`"
            ]
        },
        {
            "cell_type": "code",
            "execution_count": null,
            "metadata": {},
            "outputs": [],
            "source": "flights %>% select(-contains(\"time\"))"
        },
        {
            "cell_type": "markdown",
            "metadata": {},
            "source": [
                "\n",
                "### pick columns using a character vector of column names"
            ]
        },
        {
            "cell_type": "code",
            "execution_count": null,
            "metadata": {},
            "outputs": [],
            "source": [
                "cols <- c(\"carrier\", \"flight\", \"tailnum\")\n",
                "flights %>% select(all_of(cols))"
            ]
        },
        {
            "cell_type": "markdown",
            "metadata": {},
            "source": [
                "\n",
                "### `all_of()` vs `any_of()`"
            ]
        },
        {
            "cell_type": "code",
            "execution_count": null,
            "metadata": {},
            "outputs": [],
            "source": [
                "cols <- c(\"carrier\", \"flight\", \"tailnum_ttt\")\n",
                "flights %>% select(any_of(cols))"
            ]
        },
        {
            "cell_type": "markdown",
            "metadata": {},
            "source": [
                "\n",
                "### rename columns with that all columns not mentioned are dropped: `select()`"
            ]
        },
        {
            "cell_type": "code",
            "execution_count": null,
            "metadata": {},
            "outputs": [],
            "source": "flights %>% select(tail = tailnum)"
        },
        {
            "cell_type": "markdown",
            "metadata": {},
            "source": [
                "\n",
                "### rename columns with that all columns not mentioned are kept: `rename()`"
            ]
        },
        {
            "cell_type": "code",
            "execution_count": null,
            "metadata": {},
            "outputs": [],
            "source": "flights %>% rename(tail = tailnum)"
        },
        {
            "cell_type": "markdown",
            "metadata": {},
            "source": [
                "## Choosing rows: `filter`, `between`, `slice`, `slice_sample`, `slice_max`, `distinct`\n",
                "\n",
                "### `filter()` supports the use of multiple conditions"
            ]
        },
        {
            "cell_type": "code",
            "execution_count": null,
            "metadata": {},
            "outputs": [],
            "source": "flights %>% filter(dep_time >= 600, dep_time <= 605)"
        },
        {
            "cell_type": "markdown",
            "metadata": {},
            "source": [
                "\n",
                "### if numeric values fall in a range: use `between()`"
            ]
        },
        {
            "cell_type": "code",
            "execution_count": null,
            "metadata": {},
            "outputs": [],
            "source": "flights %>% filter(between(dep_time, 600, 605))"
        },
        {
            "cell_type": "markdown",
            "metadata": {},
            "source": [
                "\n",
                "* side note: `is.na()` is useful when filtering"
            ]
        },
        {
            "cell_type": "code",
            "execution_count": null,
            "metadata": {},
            "outputs": [],
            "source": "flights %>% filter(!is.na(dep_time))"
        },
        {
            "cell_type": "markdown",
            "metadata": {},
            "source": [
                "\n",
                "### filter rows by position: `slice()`"
            ]
        },
        {
            "cell_type": "code",
            "execution_count": null,
            "metadata": {},
            "outputs": [],
            "source": "flights %>% slice(1000:1005)"
        },
        {
            "cell_type": "markdown",
            "metadata": {},
            "source": [
                "\n",
                "### keep the first five rows within each group: `group_by()` then `slice(1:5)`"
            ]
        },
        {
            "cell_type": "code",
            "execution_count": null,
            "metadata": {},
            "outputs": [],
            "source": [
                "flights %>%\n",
                "    group_by(month, day) %>%\n",
                "    slice(1:5)"
            ]
        },
        {
            "cell_type": "markdown",
            "metadata": {},
            "source": [
                "\n",
                "### sample three rows from each group: `group_by()` then `slice_sample(n = 3)`"
            ]
        },
        {
            "cell_type": "code",
            "execution_count": null,
            "metadata": {},
            "outputs": [],
            "source": [
                "flights %>%\n",
                "    group_by(month, day) %>%\n",
                "    slice_sample(n = 3)"
            ]
        },
        {
            "cell_type": "markdown",
            "metadata": {},
            "source": [
                "\n",
                "### keep three rows from each group with the top `dep_delay`: `group_by()` then `slice_max(dep_delay, n = 3)`"
            ]
        },
        {
            "cell_type": "code",
            "execution_count": null,
            "metadata": {},
            "outputs": [],
            "source": [
                "flights %>%\n",
                "    group_by(month, day) %>%\n",
                "    slice_max(dep_delay, n = 3)"
            ]
        },
        {
            "cell_type": "markdown",
            "metadata": {},
            "source": [
                "\n",
                "### sort by `dep_delay` within each group: `group_by()`, `slice_max()`, then `arrange(desc(dep_delay))`"
            ]
        },
        {
            "cell_type": "code",
            "execution_count": null,
            "metadata": {},
            "outputs": [],
            "source": [
                "flights %>%\n",
                "    group_by(month, day) %>%\n",
                "    slice_max(dep_delay, n = 3) %>%\n",
                "    arrange(desc(dep_delay))"
            ]
        },
        {
            "cell_type": "markdown",
            "metadata": {},
            "source": [
                "\n",
                "### unique rows can be identified using `unique()` from base R"
            ]
        },
        {
            "cell_type": "code",
            "execution_count": null,
            "metadata": {},
            "outputs": [],
            "source": [
                "flights %>%\n",
                "    select(origin, dest) %>%\n",
                "    unique()"
            ]
        },
        {
            "cell_type": "markdown",
            "metadata": {},
            "source": [
                "\n",
                "### `tidyverse` provides an alternative that is more efficient: `distinct`"
            ]
        },
        {
            "cell_type": "code",
            "execution_count": null,
            "metadata": {},
            "outputs": [],
            "source": [
                "flights %>%\n",
                "    select(origin, dest) %>%\n",
                "    distinct()"
            ]
        },
        {
            "cell_type": "markdown",
            "metadata": {},
            "source": [
                "\n",
                "* side note: when chaining, you don't have to include the parentheses if there are no arguments"
            ]
        },
        {
            "cell_type": "code",
            "execution_count": null,
            "metadata": {},
            "outputs": [],
            "source": [
                "flights %>%\n",
                "    select(origin, dest) %>%\n",
                "    distinct"
            ]
        },
        {
            "cell_type": "markdown",
            "metadata": {},
            "source": [
                "## Adding new variables: `mutate`, `transmute`, `rownames_to_column`\n",
                "\n",
                "### create new variables and keep all existing variables: `mutate()`"
            ]
        },
        {
            "cell_type": "code",
            "execution_count": null,
            "metadata": {},
            "outputs": [],
            "source": "flights %>% mutate(speed = distance / air_time * 60)"
        },
        {
            "cell_type": "markdown",
            "metadata": {},
            "source": [
                "\n",
                "### create new variables only: `transmute()`"
            ]
        },
        {
            "cell_type": "code",
            "execution_count": null,
            "metadata": {},
            "outputs": [],
            "source": "flights %>% transmute(speed = distance / air_time * 60)"
        },
        {
            "cell_type": "markdown",
            "metadata": {},
            "source": [
                "\n",
                "### `rownames_to_column()` turns row names into an explicit variable"
            ]
        },
        {
            "cell_type": "code",
            "execution_count": null,
            "metadata": {},
            "outputs": [],
            "source": [
                "mtcars %>%\n",
                "    rownames_to_column(\"model\") %>%\n",
                "    head()\n",
                "\n",
                "# `tidyverse` does not print row names for local data frames\n",
                "mtcars %>% as_tibble()"
            ]
        },
        {
            "cell_type": "markdown",
            "metadata": {},
            "source": [
                "## Grouping and counting: `summarise`, `tally`, `count`, `group_size`, `n_groups`, `ungroup`\n",
                "\n",
                "### count the number of rows in each group: `group_by()` then `summarize(cnt = n())`"
            ]
        },
        {
            "cell_type": "code",
            "execution_count": null,
            "metadata": {},
            "outputs": [],
            "source": [
                "flights %>%\n",
                "    group_by(month) %>%\n",
                "    summarise(cnt = n())"
            ]
        },
        {
            "cell_type": "markdown",
            "metadata": {},
            "source": [
                "\n",
                "### count the number of rows in each group: `group_by()` then `tally()`"
            ]
        },
        {
            "cell_type": "code",
            "execution_count": null,
            "metadata": {},
            "outputs": [],
            "source": [
                "flights %>%\n",
                "    group_by(month) %>%\n",
                "    tally()"
            ]
        },
        {
            "cell_type": "markdown",
            "metadata": {},
            "source": [
                "\n",
                "## Count the number of rows in each group: `count`"
            ]
        },
        {
            "cell_type": "code",
            "execution_count": null,
            "metadata": {},
            "outputs": [],
            "source": "flights %>% count(month)"
        },
        {
            "cell_type": "markdown",
            "metadata": {},
            "source": [
                "\n",
                "### you can sort by the count: `arrange(desc(cnt))`"
            ]
        },
        {
            "cell_type": "code",
            "execution_count": null,
            "metadata": {},
            "outputs": [],
            "source": [
                "flights %>%\n",
                "    group_by(month) %>%\n",
                "    summarise(cnt = n()) %>%\n",
                "    arrange(desc(cnt))"
            ]
        },
        {
            "cell_type": "markdown",
            "metadata": {},
            "source": [
                "\n",
                "### `tally()` and `count()` have a sort parameter for this purpose"
            ]
        },
        {
            "cell_type": "code",
            "execution_count": null,
            "metadata": {},
            "outputs": [],
            "source": [
                "flights %>%\n",
                "    group_by(month) %>%\n",
                "    tally(sort = TRUE)\n",
                "\n",
                "flights %>% count(month, sort = TRUE)"
            ]
        },
        {
            "cell_type": "markdown",
            "metadata": {},
            "source": [
                "\n",
                "### you can sum over a specific variable instead of simply counting rows"
            ]
        },
        {
            "cell_type": "code",
            "execution_count": null,
            "metadata": {},
            "outputs": [],
            "source": [
                "flights %>%\n",
                "    group_by(month) %>%\n",
                "    summarize(dist = sum(distance))"
            ]
        },
        {
            "cell_type": "markdown",
            "metadata": {},
            "source": [
                "\n",
                "### `tally()` and `count()` have a wt parameter for this purpose"
            ]
        },
        {
            "cell_type": "code",
            "execution_count": null,
            "metadata": {},
            "outputs": [],
            "source": [
                "flights %>%\n",
                "    group_by(month) %>%\n",
                "    tally(wt = distance)\n",
                "\n",
                "flights %>% count(month, wt = distance)"
            ]
        },
        {
            "cell_type": "markdown",
            "metadata": {},
            "source": [
                "\n",
                "### return the counts as a vector: `group_size()`"
            ]
        },
        {
            "cell_type": "code",
            "execution_count": null,
            "metadata": {},
            "outputs": [],
            "source": [
                "flights %>%\n",
                "    group_by(month) %>%\n",
                "    group_size()"
            ]
        },
        {
            "cell_type": "markdown",
            "metadata": {},
            "source": [
                "\n",
                "### report the number of groups: `n_groups()`"
            ]
        },
        {
            "cell_type": "code",
            "execution_count": null,
            "metadata": {},
            "outputs": [],
            "source": [
                "flights %>%\n",
                "    group_by(month) %>%\n",
                "    n_groups()"
            ]
        },
        {
            "cell_type": "markdown",
            "metadata": {},
            "source": [
                "\n",
                "### group by two variables, `summarise`, `arrange` (output is possibly confusing)"
            ]
        },
        {
            "cell_type": "code",
            "execution_count": null,
            "metadata": {},
            "outputs": [],
            "source": [
                "flights %>%\n",
                "    group_by(month, day) %>%\n",
                "    summarise(cnt = n()) %>%\n",
                "    arrange(desc(cnt)) %>%\n",
                "    print(n = 10)"
            ]
        },
        {
            "cell_type": "markdown",
            "metadata": {},
            "source": [
                "\n",
                "### arrange across all groups: `ungroup()` before arranging"
            ]
        },
        {
            "cell_type": "code",
            "execution_count": null,
            "metadata": {},
            "outputs": [],
            "source": [
                "flights %>%\n",
                "    group_by(month, day) %>%\n",
                "    summarise(cnt = n()) %>%\n",
                "    ungroup() %>%\n",
                "    arrange(desc(cnt))"
            ]
        },
        {
            "cell_type": "markdown",
            "metadata": {},
            "source": [
                "## Creating data frames: `tibble`\n",
                "\n",
                "`tibble()` is a better way than `data.frame()` for creating data frames. Benefits of `tibble()`:\n",
                "\n",
                "* You can use previously defined columns to compute new columns\n",
                "* It never coerces column types\n",
                "* It never munges column names\n",
                "* It never adds row names \n",
                "* It only recycles length 1 input\n",
                "* It returns a local data frame\n",
                "\n",
                "### `tibble()` example"
            ]
        },
        {
            "cell_type": "code",
            "execution_count": null,
            "metadata": {},
            "outputs": [],
            "source": "tibble(a = 1:6, b = a * 2, c = \"string\", \"d+e\" = 1) %>% glimpse()"
        },
        {
            "cell_type": "markdown",
            "metadata": {},
            "source": "### `data.frame()` example"
        },
        {
            "cell_type": "code",
            "execution_count": null,
            "metadata": {},
            "outputs": [],
            "source": "data.frame(a = 1:6, c = \"string\", \"d+e\" = 1) %>% glimpse()"
        },
        {
            "cell_type": "markdown",
            "metadata": {},
            "source": [
                "## Viewing more output: `print`, `View`\n",
                "\n",
                "### specify that you want to see more rows"
            ]
        },
        {
            "cell_type": "code",
            "execution_count": null,
            "metadata": {},
            "outputs": [],
            "source": "flights %>% print(n = 15)"
        },
        {
            "cell_type": "markdown",
            "metadata": {},
            "source": [
                "\n",
                "### specify that you want to see ALL rows (don't run this!)"
            ]
        },
        {
            "cell_type": "code",
            "execution_count": null,
            "metadata": {},
            "outputs": [],
            "source": "#flights %>% print(n = Inf)"
        },
        {
            "cell_type": "markdown",
            "metadata": {},
            "source": [
                "\n",
                "### specify that you want to see all columns"
            ]
        },
        {
            "cell_type": "code",
            "execution_count": null,
            "metadata": {},
            "outputs": [],
            "source": "flights %>% print(width = Inf)"
        },
        {
            "cell_type": "markdown",
            "metadata": {},
            "source": [
                "\n",
                "### show up to 1000 rows and all columns"
            ]
        },
        {
            "cell_type": "code",
            "execution_count": null,
            "metadata": {},
            "outputs": [],
            "source": [
                "flights %>% View\n",
                "\n",
                "# set option to see all columns and fewer rows\n",
                "#options(dplyr.width = Inf, dplyr.print_min = 6)\n",
                "\n",
                "# reset options (or just close R)\n",
                "#options(dplyr.width = NULL, dplyr.print_min = 10)"
            ]
        },
        {
            "cell_type": "markdown",
            "metadata": {},
            "source": "## Plotting: `ggplot2`"
        },
        {
            "cell_type": "code",
            "execution_count": null,
            "metadata": {},
            "outputs": [],
            "source": [
                "flights %>%\n",
                "    group_by(dest) %>%\n",
                "    summarize(count = n(),\n",
                "              dist = mean(distance, na.rm = TRUE),\n",
                "              delay = mean(arr_delay, na.rm = TRUE)) %>%\n",
                "    filter(delay > 0, count > 20, dest != \"HNL\") %>%\n",
                "    ggplot(mapping = aes(x = dist, y = delay)) +\n",
                "    geom_point(aes(size = count), alpha = 1 / 3) +\n",
                "    geom_smooth(se = FALSE)"
            ]
        }
    ],
    "metadata": {
        "anaconda-cloud": "",
        "kernelspec": {
            "display_name": "R",
            "langauge": "R",
            "name": "ir"
        },
        "language_info": {
            "codemirror_mode": "r",
            "file_extension": ".r",
            "mimetype": "text/x-r-source",
            "name": "R",
            "pygments_lexer": "r",
            "version": "4.1.3"
        }
    },
    "nbformat": 4,
    "nbformat_minor": 1
}
