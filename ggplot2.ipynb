{
    "cells": [
        {
            "cell_type": "markdown",
            "metadata": {},
            "source": [
                "# Data Visualization: `ggplot2` \n",
                "\n",
                "- A picture is worth a thousand words! \n",
                "- Here we use `ggplot2` which is rooted in the data visualization theory known as _the grammar of graphics_, developed by Leland Wilkinson \n",
                "- Graphics explore the patterns in data, such as the presence of *outliers*, *distributions* of individual variables, and *relationships* between groups of variables \n",
                "- Highlight as many interesting findings as possible, but do not include so much information that it overwhelms the audience  \n",
                "\n",
                "### Needed packages"
            ]
        },
        {
            "cell_type": "code",
            "execution_count": null,
            "metadata": {},
            "outputs": [],
            "source": [
                "library(tidyverse)\n",
                "library(nycflights13)\n",
                "\n",
                "# Packages needed internally \n",
                "library(patchwork)  # To enable `+` of ggplot2 objects\n",
                "library(IRdisplay)\n",
                "library(kableExtra)\n",
                "library(knitr)"
            ]
        },
        {
            "cell_type": "markdown",
            "metadata": {},
            "source": [
                "## The grammar of graphics \n",
                "\n",
                "> **A statistical graphic is a `mapping` of `data` variables to `aes`thetic attributes of `geom`etric objects**\n",
                "\n",
                "### Components of the grammar\n",
                "\n",
                "- `data`: Dataset containing the variables of interest\n",
                "- `geom`: Geometric objects we can observe in a plot: points, lines, bars, etc\n",
                "- `aes`: Aesthetic attributes of the geometric object: x/y position, color, shape, size \n",
                "  - Aesthetic attributes are *mapped* to variables in the dataset\n",
                "\n",
                "### Other components\n",
                "\n",
                "- `facet`ing breaks up a plot into several plots split by the values of another variable\n",
                "- `position` adjustments for barplots\n",
                "\n",
                "### `ggplot2` package\n",
                "\n",
                "- For data visualization: `ggplot2` -- `g`rammar of `g`raphics for R. \n",
                "- minimal components:\n",
                "  - the `data` argument\n",
                "  - the `mapping` argument which specifies the `aes`thetic attributes involved\n",
                "  - add *layers* to the plot using `+`: `geom`etric object -- points, lines, bars, the plot title, axes labels, visual themes for the plots, facets, etc\n",
                "\n",
                "## 5 Named Graphs - THE 5NG \n",
                "\n",
                "1. scatterplots \n",
                "1. linegraphs\n",
                "1. histograms\n",
                "1. boxplots \n",
                "1. barplots\n",
                "\n",
                "## 5NG#1: Scatterplots\n",
                "\n",
                "> Visualize the *relationship* between two numerical variables\n",
                "\n",
                "- visualize two variables in `flights` data frame included in `nycflights13`:\n",
                "  - `dep_delay`: departure delay on the horizontal \"x\" axis\n",
                "  - `arr_delay`: arrival delay on the vertical \"y\" axis\n",
                "\n",
                "### Scatterplots via `geom_point`\n",
                "\n",
                "- The `data` as the `alaska_flights` data frame via `data = alaska_flights`\n",
                "- The `aes`thetic `mapping` by setting `mapping = aes(x = dep_delay, y = arr_delay)`\n",
                "- Add a layer using `+`: the `geom`etric object (here by `geom_point()`)"
            ]
        },
        {
            "cell_type": "code",
            "execution_count": null,
            "metadata": {},
            "outputs": [],
            "source": [
                "alaska_flights <- flights %>% \n",
                "    filter(carrier == \"AS\")\n",
                "\n",
                "ggplot(data = alaska_flights, \n",
                "       mapping = aes(x = dep_delay, y = arr_delay)) +\n",
                "    geom_point()"
            ]
        },
        {
            "cell_type": "markdown",
            "metadata": {},
            "source": [
                "- A *positive relationship* exists between `dep_delay` and `arr_delay`\n",
                "- The large mass of points clustered near (0, 0), the point indicating flights that neither departed nor arrived late \n",
                "- Warning message: five rows were ignored due to them being missing (`NA`s exist)\n",
                "- If no `geom`etric object was specified, we have ..."
            ]
        },
        {
            "cell_type": "code",
            "execution_count": null,
            "metadata": {},
            "outputs": [],
            "source": [
                "ggplot(data = alaska_flights, \n",
                "       mapping = aes(x = dep_delay, y = arr_delay))"
            ]
        },
        {
            "cell_type": "markdown",
            "metadata": {},
            "source": [
                "### Learning Check\n",
                "\n",
                "What variables in the `weather` data frame would you expect to have a negative correlation with `dep_delay`? Why? Hint: Explore the `weather` dataset by using the `View()` function. \n",
                "\n",
                "**Solution**: An example in the `weather` dataset is `visibility`, which measure visibility in miles. As visibility increases, we would expect departure delays to decrease. \n",
                "\n",
                "******\n",
                "\n",
                "Why do you believe there is a cluster of points near (0, 0)? What does (0, 0) correspond to in terms of the Alaskan flights?\n",
                "\n",
                "**Solution**: The point (0, 0) means no delay in departure nor arrival. From the point of view of Alaska airlines, this means the flight was on time. It seems most flights are at least close to being on time.\n",
                "\n",
                "******\n",
                "\n",
                "Create a new scatterplot using different variables in the `alaska_flights` data frame by modifying the example above.\n",
                "\n",
                "**Solution**: Many possibilities for this one, see the plot below. Is there a pattern in departure delay depending on when the flight is scheduled to depart? Interestingly, there seems to be only two blocks of time where flights depart."
            ]
        },
        {
            "cell_type": "code",
            "execution_count": null,
            "metadata": {},
            "outputs": [],
            "source": [
                "ggplot(data = alaska_flights, \n",
                "       mapping = aes(x = dep_time, y = dep_delay)) +\n",
                "    geom_point()"
            ]
        },
        {
            "cell_type": "markdown",
            "metadata": {},
            "source": [
                "### Overplotting \n",
                "\n",
                "- The large mass of points near (0, 0) cause confusion: *overplotting*\n",
                "  1. Adjusting the transparency of the points\n",
                "  1. Adding a little random \"jitter\", or random \"nudges\", to each of the points.\n",
                "\n",
                "**Method 1: Adjusting the transparency of the points**\n",
                "\n",
                "- Setting the `alpha` argument in `geom_point()`\n",
                "- `alpha` is between `0` and `1`: `0` denotes 100% transparent and `1` denotes 100% opaque\n",
                "- Default `alpha` is `1`"
            ]
        },
        {
            "cell_type": "code",
            "execution_count": null,
            "metadata": {},
            "outputs": [],
            "source": [
                "ggplot(data = alaska_flights, \n",
                "       mapping = aes(x = dep_delay, y = arr_delay)) + \n",
                "    geom_point(alpha = 0.2)"
            ]
        },
        {
            "cell_type": "markdown",
            "metadata": {},
            "source": [
                "**Method 2: Jittering the points**\n",
                "\n",
                "- Giving each point a small \"nudge\" in a random direction; shaking it \n",
                "- An example: say we have a data frame with 4 identical rows of x and y values: (0, 0), (0, 0), (0, 0), and (0, 0); see differences below:"
            ]
        },
        {
            "cell_type": "code",
            "execution_count": null,
            "metadata": {},
            "outputs": [],
            "source": [
                "jitter_example <- tibble(x = rep(0, 4), y = rep(0, 4))\n",
                "\n",
                "jittered_plot_1 <- ggplot(data = jitter_example, \n",
                "                          mapping = aes(x = x, y = y)) +\n",
                "    geom_point() +\n",
                "    coord_cartesian(xlim = c(-0.025, 0.025),\n",
                "\t\t    ylim = c(-0.025, 0.025)) +\n",
                "    labs(title = \"Regular scatterplot\")\n",
                "\n",
                "jittered_plot_2 <- ggplot(data = jitter_example,\n",
                "                          mapping = aes(x = x, y = y)) +\n",
                "    geom_jitter(width = 0.01, height = 0.01) +\n",
                "    coord_cartesian(xlim = c(-0.025, 0.025), \n",
                "\t\t    ylim = c(-0.025, 0.025)) +\n",
                "    labs(title = \"Jittered scatterplot\")\n",
                "\n",
                "jittered_plot_1 + jittered_plot_2"
            ]
        },
        {
            "cell_type": "markdown",
            "metadata": {},
            "source": "- use `geom_jitter()` instead of `geom_point()` to create a jittered scatterplot:"
        },
        {
            "cell_type": "code",
            "execution_count": null,
            "metadata": {},
            "outputs": [],
            "source": [
                "ggplot(data = alaska_flights, \n",
                "       mapping = aes(x = dep_delay, y = arr_delay)) + \n",
                "    geom_jitter(width = 30, height = 30)"
            ]
        },
        {
            "cell_type": "markdown",
            "metadata": {},
            "source": [
                "- There's no silver bullets!\n",
                "\n",
                "### Learning Check\n",
                "\n",
                "Why is setting the `alpha` argument value useful with scatterplots? What further information does it give you that a regular scatterplot cannot?\n",
                "\n",
                "**Solution**: It thins out the points so we address overplotting. But more importantly it hints at the (statistical) **density** and **distribution** of the points: where are the points concentrated, where do they occur.\n",
                "\n",
                "## 5NG#2: Linegraphs\n",
                "\n",
                "> Show the relationship between two numerical variables when the variable on the x-axis, also called the *explanatory* variable, is of a sequential nature \n",
                "\n",
                "- The most common examples of linegraphs have some notion of time on the x-axis \n",
                "- Illustrate linegraphs using another dataset in the `nycflights13` package: the `weather` data frame\n",
                "  - Explore the `weather` data frame by running `View(weather)`, `glimpse(weather)` and `?weather`\n",
                "  - `temp`: hourly temperature in &deg;F at 3 airports in NYC\n",
                "    1. Newark (`origin` code `EWR`)\n",
                "    1. John F. Kennedy International (`JFK`)\n",
                "    1. LaGuardia (`LGA`). \n",
                "  - For simplicity consider only hourly temperatures at Newark (`EWR`) airport for the first 15 days in January"
            ]
        },
        {
            "cell_type": "code",
            "execution_count": null,
            "metadata": {},
            "outputs": [],
            "source": [
                "early_january_weather <- weather %>% \n",
                "    filter(origin == \"EWR\" & month == 1 & day <= 15)"
            ]
        },
        {
            "cell_type": "markdown",
            "metadata": {},
            "source": [
                "### Learning Check\n",
                "\n",
                "`View(flights)`: why does the `time_hour` variable uniquely identify the hour of the measurement whereas the `hour` variable does not? \n",
                "\n",
                "**Solution**: Because to uniquely identify an hour, we need the `year`/`month`/`day`/`hour` sequence, whereas there are only 24 possible `hour`'s. \n",
                "\n",
                "### Linegraphs via `geom_line`\n",
                "\n",
                "- Create a time series plot of the hourly temperatures saved in `early_january_weather` by using `geom_line()` to create a linegraph:"
            ]
        },
        {
            "cell_type": "code",
            "execution_count": null,
            "metadata": {},
            "outputs": [],
            "source": [
                "ggplot(data = early_january_weather, \n",
                "       mapping = aes(x = time_hour, y = temp)) +\n",
                "    geom_line()"
            ]
        },
        {
            "cell_type": "markdown",
            "metadata": {},
            "source": [
                "- The `data` to be the `early_january_weather` data frame by setting `data = early_january_weather`\n",
                "- The `aes`thetic `mapping` by setting `mapping = aes(x = time_hour, y = temp)`\n",
                "  - `time_hour` maps to the `x` position aesthetic\n",
                "  - `temp` maps to the `y` position aesthetic\n",
                "- Add a layer to the `ggplot()` function call using `+`:  the `geom`etric object, a `line` set by specifying `geom_line()` \n",
                "\n",
                "### Learning Check\n",
                "\n",
                "Why should linegraphs be avoided when there is not a clear ordering of the horizontal axis?\n",
                "\n",
                "**Solution**: Because lines suggest connectedness and ordering.  \n",
                "\n",
                "******\n",
                "\n",
                "Why are linegraphs frequently used when time is the explanatory variable?\n",
                "\n",
                "**Solution**: Because time is sequential: subsequent observations are closely related to each other.\n",
                "\n",
                "******\n",
                "\n",
                "Plot a time series of a variable other than `temp` for Newark Airport in the first 15 days of January 2013.\n",
                "\n",
                "**Solution**: Humidity is a good one to look at, since this very closely related to the cycles of a day."
            ]
        },
        {
            "cell_type": "code",
            "execution_count": null,
            "metadata": {},
            "outputs": [],
            "source": [
                "ggplot(data = early_january_weather, \n",
                "       mapping = aes(x = time_hour, y = humid)) +\n",
                "    geom_line()"
            ]
        },
        {
            "cell_type": "markdown",
            "metadata": {},
            "source": [
                "## 5NG#3: Histograms \n",
                "\n",
                "- Consider `temp` in `weather` about how the values of `temp` distribute:\n",
                "  - What are the smallest and largest values?\n",
                "  - What is the \"center\" or \"most typical\" value?\n",
                "  - How do the values spread out?\n",
                "  - What are frequent and infrequent values?\n",
                "- False start: visualize the *distribution* of `temp` by plotting them on a horizontal line -- Not Good"
            ]
        },
        {
            "cell_type": "code",
            "execution_count": null,
            "metadata": {},
            "outputs": [],
            "source": [
                "ggplot(data = weather, \n",
                "       mapping = aes(x = temp, y = factor(\"A\"))) +\n",
                "    geom_point() +\n",
                "    theme(axis.ticks.y = element_blank(),\n",
                "          axis.title.y = element_blank(),\n",
                "          axis.text.y = element_blank())\n",
                "hist_title <- \"Histogram of Hourly Temperature from NYC in 2013\""
            ]
        },
        {
            "cell_type": "markdown",
            "metadata": {},
            "source": [
                "> A histogram is a plot that visualizes the *distribution* of a numerical value as follows:\n",
                ">  - Cut up the x-axis into a series of *bins*, where each bin represents a range of values \n",
                ">  - For each bin, count the number of observations that fall in the range\n",
                ">  - For each bin, draw a bar whose height marks the corresponding count"
            ]
        },
        {
            "cell_type": "code",
            "execution_count": null,
            "metadata": {},
            "outputs": [],
            "source": [
                "ggplot(data = weather, \n",
                "       mapping = aes(x = temp)) +\n",
                "    geom_histogram(binwidth = 10, \n",
                "                   boundary = 70, \n",
                "                   color = \"white\")"
            ]
        },
        {
            "cell_type": "markdown",
            "metadata": {},
            "source": [
                "- Around 5000 of the hourly temperature recordings are between 30&deg;F and 40&deg;F\n",
                "- Around 4300 of the hourly temperature recordings are between 40&deg;F and 50&deg;F\n",
                "- Around 3500 of the hourly temperature recordings are between 50&deg;F and 60&deg;F\n",
                "\n",
                "\n",
                "### Histograms via `geom_histogram`\n",
                "\n",
                "- Warnings"
            ]
        },
        {
            "cell_type": "code",
            "execution_count": null,
            "metadata": {},
            "outputs": [],
            "source": [
                "ggplot(data = weather, \n",
                "       mapping = aes(x = temp)) +\n",
                "    geom_histogram()"
            ]
        },
        {
            "cell_type": "markdown",
            "metadata": {},
            "source": [
                "- R chooses `bin = 30` by default\n",
                "- For one row has a missing `NA` value for `temp`, it was omitted from the histogram\n",
                "- Add white vertical borders demarcating the bins by adding `color = \"white\"`  to `geom_histogram()` and ignore the warning about setting the number of bins to a better value"
            ]
        },
        {
            "cell_type": "code",
            "execution_count": null,
            "metadata": {},
            "outputs": [],
            "source": [
                "ggplot(data = weather, \n",
                "       mapping = aes(x = temp)) +\n",
                "    geom_histogram(color = \"white\")"
            ]
        },
        {
            "cell_type": "markdown",
            "metadata": {},
            "source": "- Set the bin colors to be \"blue steel\" by setting `fill = \"steelblue\"`"
        },
        {
            "cell_type": "code",
            "execution_count": null,
            "metadata": {},
            "outputs": [],
            "source": [
                "ggplot(data = weather, \n",
                "       mapping = aes(x = temp)) +\n",
                "    geom_histogram(color = \"white\", fill = \"steelblue\")"
            ]
        },
        {
            "cell_type": "markdown",
            "metadata": {},
            "source": "- Run `colors()` to see all possible choice of colors"
        },
        {
            "cell_type": "code",
            "execution_count": null,
            "metadata": {},
            "outputs": [],
            "source": "colors()"
        },
        {
            "cell_type": "markdown",
            "metadata": {},
            "source": [
                "### Adjusting the bins\n",
                "\n",
                "- Adjusting the properties of bins in histograms using\n",
                "  - `bins`: the number of the bins  \n",
                "  - `binwidth`: the width of the bins  \n",
                "- Using `bins`:"
            ]
        },
        {
            "cell_type": "code",
            "execution_count": null,
            "metadata": {},
            "outputs": [],
            "source": [
                "ggplot(data = weather, \n",
                "       mapping = aes(x = temp)) +\n",
                "    geom_histogram(bins = 40, color = \"white\")"
            ]
        },
        {
            "cell_type": "markdown",
            "metadata": {},
            "source": "- Using `binwidth`:"
        },
        {
            "cell_type": "code",
            "execution_count": null,
            "metadata": {},
            "outputs": [],
            "source": [
                "ggplot(data = weather, \n",
                "       mapping = aes(x = temp)) +\n",
                "    geom_histogram(binwidth = 10, color = \"white\")"
            ]
        },
        {
            "cell_type": "markdown",
            "metadata": {},
            "source": "- Comparing resulting histograms side-by-side:"
        },
        {
            "cell_type": "code",
            "execution_count": null,
            "metadata": {},
            "outputs": [],
            "source": [
                "hist_1 <- ggplot(data = weather,\n",
                "                 mapping = aes(x = temp)) +\n",
                "    geom_histogram(bins = 40, color = \"white\") +\n",
                "    labs(title = \"With 40 bins\")\n",
                "\n",
                "hist_2 <- ggplot(data = weather, \n",
                "                 mapping = aes(x = temp)) +\n",
                "    geom_histogram(binwidth = 10, color = \"white\") +\n",
                "    labs(title = \"With binwidth = 10 degrees F\")\n",
                "\n",
                "hist_1 + hist_2"
            ]
        },
        {
            "cell_type": "markdown",
            "metadata": {},
            "source": [
                "### Learning Check\n",
                "\n",
                "What does changing the number of bins from 30 to 40 tell us about the distribution of temperatures?\n",
                "\n",
                "**Solution**: The distribution doesn't change much. But by refining the bin width, we see that the temperature data has a high degree of accuracy. Looking at the `temp` variable by `View(weather)`, we see that the precision of each temperature recording is 2 decimal places.\n",
                "\n",
                "******\n",
                "\n",
                "Would you classify the distribution of temperatures as symmetric or skewed?\n",
                "\n",
                "**Solution**: It is rather symmetric, i.e. there are no __long tails__ on only one side of the distribution.\n",
                "\n",
                "### Facets\n",
                "\n",
                "> Split a particular visualization by the values of another variable \n",
                "  \n",
                "- Suppose we were interested in the histogram of hourly temperature recordings at the three NYC airports in each month; \"split\" this histogram by month:"
            ]
        },
        {
            "cell_type": "code",
            "execution_count": null,
            "metadata": {},
            "outputs": [],
            "source": [
                "ggplot(data = weather, \n",
                "       mapping = aes(x = temp)) +\n",
                "    geom_histogram(binwidth = 5, color = \"white\") +\n",
                "    facet_wrap(~ month)"
            ]
        },
        {
            "cell_type": "markdown",
            "metadata": {},
            "source": "- Specify the number of rows and columns in the grid by using `nrow`, `ncol` inside of `facet_wrap()`:"
        },
        {
            "cell_type": "code",
            "execution_count": null,
            "metadata": {},
            "outputs": [],
            "source": [
                "ggplot(data = weather, \n",
                "       mapping = aes(x = temp)) +\n",
                "    geom_histogram(binwidth = 5, color = \"white\") +\n",
                "    facet_wrap(~ month, nrow = 4)"
            ]
        },
        {
            "cell_type": "markdown",
            "metadata": {},
            "source": [
                "### Learning Check\n",
                "\n",
                "What other things do you notice about the faceted plot above? How does a faceted plot help us see relationships between two variables?\n",
                "\n",
                "**Solution**: \n",
                "\n",
                "* Certain months have much more consistent weather (August in particular), while others have crazy variability like January and October, representing changes in the seasons.\n",
                "* Because we see `temp` recordings split by `month`, we are considering the relationship between these two variables. For example, for summer months, temperatures tend to be higher. \n",
                "\n",
                "******\n",
                "\n",
                "What do the numbers 1-12 correspond to in the plot above?  What about 25, 50, 75, 100?\n",
                "\n",
                "**Solution**: \n",
                "\n",
                "- They correspond to the month of the flight. While month is technically a number between 1-12, we're viewing it as a categorical variable here. Specifically, this is an **ordinal categorical** variable since there is an ordering to the categories.\n",
                "- 25, 50, 75, 100 are temperatures\n",
                "\n",
                "******\n",
                "\n",
                "For which types of datasets would these types of faceted plots not work well in comparing relationships between variables? Give an example describing the nature of these variables and other important characteristics.\n",
                "\n",
                "**Solution**: \n",
                "\n",
                "It would not work if we had a very large number of facets. For example, if we faceted by individual days rather than months, as we would have 365 facets to look at. When considering all days in 2013, it could be argued that we shouldn't care about day-to-day fluctuation in weather so much, but rather month-to-month fluctuations, allowing us to focus on seasonal trends.\n",
                "\n",
                "## 5NG#4: Boxplots \n",
                "\n",
                "> Constructed from the *five-number summary* of a numerical variable  \n",
                "\n",
                "- Consider the hourly temperature recordings for the month of November, each represented as a jittered point:"
            ]
        },
        {
            "cell_type": "code",
            "execution_count": null,
            "metadata": {},
            "outputs": [],
            "source": [
                "base_plot <- weather %>%\n",
                "    filter(month %in% c(11)) %>%\n",
                "    ggplot(mapping = aes(x = factor(month), y = temp)) +\n",
                "    labs(x = \"\")\n",
                "base_plot +\n",
                "    geom_jitter(width = 0.075, height = 0.5, alpha = 0.1)"
            ]
        },
        {
            "cell_type": "markdown",
            "metadata": {},
            "source": "- These observations have the following *five-number summary*:"
        },
        {
            "cell_type": "code",
            "execution_count": null,
            "metadata": {},
            "outputs": [],
            "source": [
                "n_nov <- weather %>%\n",
                "    filter(month == 11) %>%\n",
                "    nrow()\n",
                "min_nov <- weather %>%\n",
                "    filter(month == 11) %>%\n",
                "    pull(temp) %>%\n",
                "    min(na.rm = TRUE) %>%\n",
                "    round(0)\n",
                "max_nov <- weather %>%\n",
                "    filter(month == 11) %>%\n",
                "    pull(temp) %>%\n",
                "    max(na.rm = TRUE) %>%\n",
                "    round(0)\n",
                "quartiles <- weather %>%\n",
                "    filter(month == 11) %>%\n",
                "    pull(temp) %>%\n",
                "    quantile(prob = c(0.25, 0.5, 0.75)) %>%\n",
                "    round(0)\n",
                "(five_number_summary <- tibble(temp = c(min_nov, quartiles, max_nov)))"
            ]
        },
        {
            "cell_type": "markdown",
            "metadata": {},
            "source": "- See the example boxplots"
        },
        {
            "cell_type": "code",
            "execution_count": null,
            "metadata": {},
            "outputs": [],
            "source": [
                "boxplot_1 <- base_plot +\n",
                "    geom_hline(data = five_number_summary, \n",
                "               aes(yintercept = temp), linetype = \"dashed\") +\n",
                "    geom_jitter(width = 0.075, height = 0.5, alpha = 0.1)\n",
                "\n",
                "boxplot_2 <- base_plot +\n",
                "    geom_boxplot() +\n",
                "    geom_hline(data = five_number_summary, \n",
                "               aes(yintercept = temp), linetype = \"dashed\") +\n",
                "    geom_jitter(width = 0.075, height = 0.5, alpha = 0.1)\n",
                "\n",
                "boxplot_3 <- base_plot + geom_boxplot()\n",
                "\n",
                "boxplot_1 + boxplot_2 + boxplot_3"
            ]
        },
        {
            "cell_type": "markdown",
            "metadata": {},
            "source": [
                "- Visually summarize the 2141 points by cutting the 2141 temperature recordings into *quartiles* at the dashed lines, where each quartile contains roughly 2141 $\\div$ 4 $\\approx$ 535 observations\n",
                "- 25% of points fall below the bottom edge of the box, which is the first quartile of 36&deg;F\n",
                "- 25% of points fall between the bottom edge of the box and the solid middle line, which is the median of 45&deg;F \n",
                "- 25% of points fall between the solid middle line and the top edge of the box, which is the third quartile of 52&deg;F \n",
                "- 25% of points fall above the top edge of the box\n",
                "- The middle 50% of points lie within the *interquartile range (IQR)* between the first and third quartile\n",
                "  - IQR here is 52 - 36 = 16&deg;F \n",
                "  - IQR is a measure of a numerical variable's *spread*\n",
                "- In the rightmost plot we see the *whiskers* of the boxplot \n",
                "  - The whiskers stick out from either end of the box all the way to the minimum and maximum observed temperatures of 21&deg;F and 71&deg;F, respectively \n",
                "- The whiskers don't always extend to the smallest and largest observed values as they do here\n",
                "  - They in fact extend no more than 1.5 $\\times$ the interquartile range from either end of the box \n",
                "  - In this case of the November temperatures, no more than 1.5 $\\times$ 16&deg;F = 24&deg;F from either end of the box\n",
                "  - Any observed values outside this range get marked with points called *outliers*\n",
                "\n",
                "### Boxplots via `geom_boxplot`\n",
                "\n",
                "- Create a side-by-side boxplot of hourly temperatures split by the 12 months with the faceted histograms\n",
                "  - By mapping `month` to the x-position aesthetic, `temp` to the y-position aesthetic, and adding a `geom_boxplot()` layer\n",
                "  - Failed trial"
            ]
        },
        {
            "cell_type": "code",
            "execution_count": null,
            "metadata": {},
            "outputs": [],
            "source": [
                "ggplot(data = weather, \n",
                "       mapping = aes(x = month, y = temp)) +\n",
                "    geom_boxplot()"
            ]
        },
        {
            "cell_type": "markdown",
            "metadata": {},
            "source": [
                "- Boxplots require a **categorical** variable to be mapped to the x-position aesthetic ! \n",
                "  - Convert the numerical `month` into a `factor` categorical variable by using the `factor()` function"
            ]
        },
        {
            "cell_type": "code",
            "execution_count": null,
            "metadata": {},
            "outputs": [],
            "source": [
                "ggplot(data = weather, \n",
                "       mapping = aes(x = factor(month), y = temp)) +\n",
                "    geom_boxplot()"
            ]
        },
        {
            "cell_type": "markdown",
            "metadata": {},
            "source": [
                "- The \"box\" portions of the visualization represent the 1st quartile, the median (the 2nd quartile), and the 3rd quartile\n",
                "- The height of each box (the value of the 3rd quartile minus the value of the 1st quartile) is the interquartile range (IQR)\n",
                "- The \"whisker\" of these plots extend out from the bottoms and tops of the boxes and represent points less than the 25th percentile and greater than the 75th percentiles \n",
                "  - They're set to extend out no more than 1.5 $\\times$ IQR units away from either end of the boxes\n",
                "  - The length of whiskers show how the data outside the middle 50% of values vary, with longer whiskers indicating more variability\n",
                "  - The dots representing values falling outside the whiskers are called *outliers*\n",
                "\n",
                "### Learning Check\n",
                "\n",
                "What does the dot at the bottom of the plot for May correspond to?  Explain what might have occurred in May to produce this point.\n",
                "\n",
                "**Solution**: It appears to be an outlier. Let's revisit the use of the `filter` command to hone in on it. We want all data points where the `month` is 5 and `temp < 25`"
            ]
        },
        {
            "cell_type": "code",
            "execution_count": null,
            "metadata": {},
            "outputs": [],
            "source": [
                "weather %>%\n",
                "    filter(month == 5 & temp < 25)"
            ]
        },
        {
            "cell_type": "markdown",
            "metadata": {},
            "source": [
                "There appears to be only one hour and only at JFK that recorded 13.1 F (-10.5 C) in the month of May. This is probably a data entry mistake! Why wasn't the weather at least similar at EWR (Newark) and LGA (LaGuardia)?\n",
                "\n",
                "******\n",
                "\n",
                "Which months have the highest variability in temperature?  What reasons do you think this is?\n",
                "\n",
                "**Solution**: We are now interested in the **spread** of the data. One measure some of you may have seen previously is the standard deviation. But in this plot we can read off the Interquartile Range (IQR):\n",
                "\n",
                "* The distance from the 1st to the 3rd quartiles i.e. the length of the boxes\n",
                "* You can also think of this as the spread of the **middle 50%** of the data\n",
                "\n",
                "Just from eyeballing it, it seems\n",
                "\n",
                "* November has the biggest IQR, i.e. the widest box, so has the most variation in temperature\n",
                "* August has the smallest IQR, i.e. the narrowest box, so is the most consistent temperature-wise\n",
                "\n",
                "Here's how we compute the exact IQR values for each month:\n",
                "\n",
                "1. `group` the observations by `month` then\n",
                "1. for each `group`, i.e. `month`, `summarize` it by applying the summary statistic function `IQR()`, while making sure to skip over missing data via `na.rm=TRUE` then\n",
                "1. `arrange` the table in `desc`ending order of `IQR`"
            ]
        },
        {
            "cell_type": "code",
            "execution_count": null,
            "metadata": {},
            "outputs": [],
            "source": [
                "weather %>%\n",
                "    group_by(month) %>%\n",
                "    summarize(IQR = IQR(temp, na.rm = TRUE)) %>%\n",
                "    arrange(desc(IQR))"
            ]
        },
        {
            "cell_type": "markdown",
            "metadata": {},
            "source": [
                "******\n",
                "\n",
                "We looked at the distribution of the numerical variable `temp` split by the numerical variable `month` that we converted to a categorical variable using the `factor()` function. Why would a boxplot of `temp` split by the numerical variable `pressure` similarly converted to a categorical variable using the `factor()` not be informative?\n",
                "\n",
                "**Solution**: Because there are 12 unique values of `month` yielding only 12 boxes in our boxplot. There are many more unique values of `pressure`, because values are to the first decimal place.\n",
                "\n",
                "******\n",
                "\n",
                "Boxplots provide a simple way to identify outliers.  Why may outliers be easier to identify when looking at a boxplot instead of a faceted histogram?\n",
                "\n",
                "**Solution**: In a histogram, the bin corresponding to where an outlier lies may not by high enough for us to see. In a boxplot, they are explicitly labelled separately. \n",
                "\n",
                "## 5NG#5: Barplots\n",
                "\n",
                "> Visualize the distribution of a *categorical* variable \n",
                "\n",
                "- Simply counting different categories within a categorical variable, i.e. the *levels* of the categorical variable\n",
                "- Depends on how the data is represented\n",
                "  - Example"
            ]
        },
        {
            "cell_type": "code",
            "execution_count": null,
            "metadata": {},
            "outputs": [],
            "source": [
                "fruits <- tibble(fruit = c(\"apple\", \"apple\", \n",
                "\t\t\t   \"orange\", \"apple\", \"orange\"))\n",
                "fruits_counted <- tibble(fruit = c(\"apple\", \"orange\"), \n",
                "                         number = c(3, 2))"
            ]
        },
        {
            "cell_type": "markdown",
            "metadata": {},
            "source": "- `fruits` just lists the fruit individually"
        },
        {
            "cell_type": "code",
            "execution_count": null,
            "metadata": {},
            "outputs": [],
            "source": "fruits"
        },
        {
            "cell_type": "markdown",
            "metadata": {},
            "source": "- `fruits_counted` has a variable `count` which represent the \"pre-counted\" values of each fruit"
        },
        {
            "cell_type": "code",
            "execution_count": null,
            "metadata": {},
            "outputs": [],
            "source": "fruits_counted"
        },
        {
            "cell_type": "markdown",
            "metadata": {},
            "source": [
                "- Depending on how the categorical data is represented, different `geom`etric layer types should be used\n",
                "\n",
                "\n",
                "### Barplots via `geom_bar` or `geom_col`\n",
                "\n",
                "- Using `fruits`: map the `fruit` variable to the x-position aesthetic and add `geom_bar()`"
            ]
        },
        {
            "cell_type": "code",
            "execution_count": null,
            "metadata": {},
            "outputs": [],
            "source": [
                "ggplot(data = fruits, \n",
                "       mapping = aes(x = fruit)) +\n",
                "    geom_bar()"
            ]
        },
        {
            "cell_type": "markdown",
            "metadata": {},
            "source": "- Using `fruits_counted` which the fruits have been \"pre-counted\", map the `fruit` variable to the x-position aesthetic, but map the `count` variable to the y-position aesthetic, and add `geom_col()`"
        },
        {
            "cell_type": "code",
            "execution_count": null,
            "metadata": {},
            "outputs": [],
            "source": [
                "ggplot(data = fruits_counted, \n",
                "       mapping = aes(x = fruit, y = number)) +\n",
                "    geom_col()"
            ]
        },
        {
            "cell_type": "markdown",
            "metadata": {},
            "source": [
                "- Use `geom_bar()` if not pre-counted \n",
                "- Use `geom_col()` with the y-position aesthetic mapped to the variable that has the counts if pre-counted\n",
                "- Example: visualize the distribution of the categorical variable `carrier` in `flights` data frame of `nycflights13` \n",
                "  - Visualize the number of domestic flights out of New York City each airline company flew in 2013 \n",
                "  - Not pre-counted \n",
                "  - As a difference, histograms have bars that touch whereas bar graphs have white space between the bars going from left to right"
            ]
        },
        {
            "cell_type": "code",
            "execution_count": null,
            "metadata": {},
            "outputs": [],
            "source": [
                "ggplot(data = flights, \n",
                "       mapping = aes(x = carrier)) +\n",
                "    geom_bar()"
            ]
        },
        {
            "cell_type": "markdown",
            "metadata": {},
            "source": [
                "- Observe that United Airlines (UA), JetBlue Airways (B6), and ExpressJet Airlines (EV) had the most flights depart NYC in 2013\n",
                "  - Run `View(airlines)` to see a directory of airlines\n",
                "- Alternatively, say you had a data frame where the number of flights for each `carrier` was pre-counted"
            ]
        },
        {
            "cell_type": "code",
            "execution_count": null,
            "metadata": {},
            "outputs": [],
            "source": [
                "flights_counted <- flights %>%\n",
                "    group_by(carrier) %>%\n",
                "    summarize(number = n())\n",
                "\n",
                "kable(flights_counted,\n",
                "      digits = 3,\n",
                "      caption = \"Number of flights pre-counted for each carrier\",\n",
                "      booktabs = TRUE,\n",
                "      longtable = TRUE,\n",
                "      linesep = \"\",\n",
                "      format = \"html\") %>%\n",
                "    kable_styling(font_size = 16) %>%\n",
                "    as.character() %>%\n",
                "    display_html()"
            ]
        },
        {
            "cell_type": "markdown",
            "metadata": {},
            "source": [
                "### Learning Check\n",
                "\n",
                "Why are histograms inappropriate for visualizing categorical variables?\n",
                "\n",
                "**Solution**: Histograms are for numerical variables i.e. the horizontal part of each histogram bar represents an interval, whereas for a categorical variable each bar represents only one level of the categorical variable.\n",
                "\n",
                "### Avoid pie charts!\n",
                "\n",
                "- Pie charts actually present a problem in that humans are unable to judge angles well \n",
                "- Example: use a pie chart for the previous data\n",
                "- Try to answer:\n",
                "  - How much larger is the portion of the pie for ExpressJet Airlines (`EV`) compared to US Airways (`US`)? \n",
                "  - What is the third largest carrier in terms of departing flights?\n",
                "  - How many carriers have fewer flights than United Airlines (`UA`)?"
            ]
        },
        {
            "cell_type": "code",
            "execution_count": null,
            "metadata": {},
            "outputs": [],
            "source": [
                "ggplot(flights, \n",
                "       mapping = aes(x = factor(1), fill = carrier)) +\n",
                "    geom_bar(width = 1) +\n",
                "    coord_polar(theta = \"y\") +\n",
                "    theme(axis.title.x = element_blank(),\n",
                "          axis.title.y = element_blank(),\n",
                "          axis.ticks = element_blank(),\n",
                "          axis.text.y = element_blank(),\n",
                "          axis.text.x = element_blank(),\n",
                "          panel.grid.major = element_blank(),\n",
                "          panel.grid.minor = element_blank()) +\n",
                "    guides(fill = guide_legend(keywidth = 0.8, keyheight = 0.8))"
            ]
        },
        {
            "cell_type": "markdown",
            "metadata": {},
            "source": [
                "### Two categorical variables\n",
                "\n",
                "- Another use of barplots is to visualize the *joint* distribution of two categorical variables at the same time \n",
                "  - Example: examine the *joint* distribution of outgoing domestic flights from NYC by `carrier` as well as `origin` \n",
                "  - Map the additional variable `origin` by adding `fill = origin` inside `aes()`"
            ]
        },
        {
            "cell_type": "code",
            "execution_count": null,
            "metadata": {},
            "outputs": [],
            "source": [
                "ggplot(data = flights, \n",
                "       mapping = aes(x = carrier, fill = origin)) +\n",
                "    geom_bar()"
            ]
        },
        {
            "cell_type": "markdown",
            "metadata": {},
            "source": [
                "- `fill`: the color used to fill the bars; `color`: the color of the outline of the bars \n",
                "  - Same as before: we set the outline of the bars to white by setting `color = \"white\"` and the colors of the bars to blue steel by setting `fill = \"steelblue\"`\n",
                "  - Observe that mapping `origin` to `color` and not `fill` yields grey bars with different colored outlines\n",
                "- `fill` is another aesthetic mapping much like `x`-position; be careful to include it within the parentheses of the `aes()` mapping\n",
                "  - Don't do the following"
            ]
        },
        {
            "cell_type": "code",
            "execution_count": null,
            "metadata": {},
            "outputs": [],
            "source": [
                "ggplot(data = flights, \n",
                "       mapping = aes(x = carrier),\n",
                "       fill = origin) +\n",
                "    geom_bar()"
            ]
        },
        {
            "cell_type": "markdown",
            "metadata": {},
            "source": [
                "- An alternative to above (called *stacked barplots*) are *side-by-side barplots*, also known as *dodged barplots*\n",
                "- The code to create a side-by-side barplot is identical to the code to create a stacked barplot, but with a `position = \"dodge\"` argument added to `geom_bar()` \n",
                "  - We are overriding the default barplot type, which is a *stacked* barplot, and specifying it to be a side-by-side barplot instead"
            ]
        },
        {
            "cell_type": "code",
            "execution_count": null,
            "metadata": {},
            "outputs": [],
            "source": [
                "ggplot(data = flights, \n",
                "       mapping = aes(x = carrier, fill = origin)) +\n",
                "    geom_bar(position = \"dodge\")"
            ]
        },
        {
            "cell_type": "markdown",
            "metadata": {},
            "source": [
                "- Note the width of the bars for `AS`, `F9`, `FL`, `HA` and `YV` is different than the others\n",
                "  - We can make one tweak to the `position` argument to get them to be the same size in terms of width as the other bars by using (the more robust) `position_dodge()` function"
            ]
        },
        {
            "cell_type": "code",
            "execution_count": null,
            "metadata": {},
            "outputs": [],
            "source": [
                "ggplot(data = flights, \n",
                "       mapping = aes(x = carrier, fill = origin)) +\n",
                "    geom_bar(position = position_dodge(preserve = \"single\"))"
            ]
        },
        {
            "cell_type": "markdown",
            "metadata": {},
            "source": [
                "- A *faceted barplot* \n",
                "- Visualizing the frequency of `carrier` split by `origin` \n",
                "  - Instead of mapping `origin` to `fill`, include it as the variable to create small multiples of the plot across the levels of `origin`"
            ]
        },
        {
            "cell_type": "code",
            "execution_count": null,
            "metadata": {},
            "outputs": [],
            "source": [
                "(month_facet_ncol <- \n",
                "    ggplot(data = flights, \n",
                "           mapping = aes(x = carrier)) +\n",
                "    geom_bar() +\n",
                "    facet_wrap(~origin, ncol = 1))"
            ]
        },
        {
            "cell_type": "markdown",
            "metadata": {},
            "source": [
                "## Conclusion\n",
                "\n",
                "### Summary table"
            ]
        },
        {
            "cell_type": "code",
            "execution_count": null,
            "metadata": {},
            "outputs": [],
            "source": [
                "# The following Google Doc is published to CSV and loaded using read_csv():\n",
                "# https://docs.google.com/spreadsheets/d/1vzqlFiT6qm5wzy_L_0nL7EWAd6jiUZmLSCFhDhztDSg/edit#gid=0\n",
                "summary_table <-\n",
                "    \"https://docs.google.com/spreadsheets/d/e/2PACX-1vRGaUW6EMIGPhg2V7CahoSdVi_JCcESFRYV5tov6bjcwOcn7DZDzfpZgrvjfFG6PV57gcJYIrwl_Q2c/pub?gid=0&single=true&output=csv\" %>%\n",
                "    read_csv(na = \"\") #%>%\n",
                "    #rename(` ` = `X1`)\n",
                "\n",
                "summary_table$Notes[2] <- \"Used when there is a sequential order to x-variable, e.g., time\"\n",
                "\n",
                "summary_table %>%\n",
                "    kable(caption = \"Summary of Five Named Graphs\",\n",
                "          booktabs = TRUE,\n",
                "          format = \"html\") %>%\n",
                "    as.character() %>%\n",
                "    display_html()"
            ]
        },
        {
            "cell_type": "markdown",
            "metadata": {},
            "source": [
                "### Function argument specification\n",
                "\n",
                "- Two styles of code"
            ]
        },
        {
            "cell_type": "code",
            "execution_count": null,
            "metadata": {},
            "outputs": [],
            "source": [
                "# Style 1:\n",
                "ggplot(data = flights, \n",
                "       mapping = aes(x = carrier)) +\n",
                "    geom_bar()\n",
                "\n",
                "# Style 2:\n",
                "ggplot(flights, aes(x = carrier)) +\n",
                "    geom_bar()"
            ]
        },
        {
            "cell_type": "markdown",
            "metadata": {},
            "source": [
                "### Cheatsheet \n",
                "\n",
                "- Check out RStudio's \"Data Visualization with ggplot2\" cheatsheet\n",
                "  - Access this cheatsheet by going to the RStudio Menu Bar -> Help -> Cheatsheets -> \"Data Visualization with ggplot2\"\n",
                "\n",
                "### Resources\n",
                "\n",
                "- [`ggplot2`: Elegant Graphics for Data Analysis](https://ggplot2-book.org/)\n",
                "  - Written by the author of `ggplot2` and `tidyverse` packages\n",
                "- [R Graphics Cookbook](https://r-graphics.org/)\n",
                "  - Provides more than 150 recipes to generate high-quality graphs quickly"
            ]
        }
    ],
    "metadata": {
        "anaconda-cloud": "",
        "kernelspec": {
            "display_name": "R",
            "langauge": "R",
            "name": "ir"
        },
        "language_info": {
            "codemirror_mode": "r",
            "file_extension": ".r",
            "mimetype": "text/x-r-source",
            "name": "R",
            "pygments_lexer": "r",
            "version": "4.1.3"
        }
    },
    "nbformat": 4,
    "nbformat_minor": 1
}
