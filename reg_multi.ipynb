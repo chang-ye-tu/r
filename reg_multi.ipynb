{
    "cells": [
        {
            "cell_type": "markdown",
            "metadata": {},
            "source": [
                "# Multiple Regression \n",
                "\n",
                "### Needed packages"
            ]
        },
        {
            "cell_type": "code",
            "execution_count": null,
            "metadata": {},
            "outputs": [],
            "source": [
                "library(tidyverse)\n",
                "library(moderndive)\n",
                "library(gapminder)\n",
                "library(skimr)\n",
                "library(ISLR2)\n",
                "\n",
                "# Packages needed internally\n",
                "library(kableExtra)\n",
                "library(patchwork)\n",
                "library(knitr)\n",
                "library(IRdisplay)"
            ]
        },
        {
            "cell_type": "markdown",
            "metadata": {},
            "source": [
                "## One numerical and one categorical explanatory variable\n",
                "\n",
                "- Instructor evaluation data from UT Austin again\n",
                "- A numerical outcome variable $y$, the instructor's teaching score, and\n",
                "- Two explanatory variables\n",
                "  - A numerical explanatory variable $x_1$, the instructor's age\n",
                "  - A categorical explanatory variable $x_2$, the instructor's (binary) gender\n",
                "\n",
                "### Exploratory data analysis\n",
                "\n",
                "#### Looking at the raw data values"
            ]
        },
        {
            "cell_type": "code",
            "execution_count": null,
            "metadata": {},
            "outputs": [],
            "source": [
                "evals_2 <- evals %>%\n",
                "    select(ID, score, age, gender) \n",
                "\n",
                "evals_2 %>%\n",
                "    sample_n(5) %>%\n",
                "    kable(digits = 3,\n",
                "          caption = \"A random sample of 5 out of the 463 courses at UT Austin\",\n",
                "          booktabs = TRUE,\n",
                "          linesep = \"\") %>%\n",
                "    kable_styling(font_size = 16) %>% as.character %>% display_html"
            ]
        },
        {
            "cell_type": "markdown",
            "metadata": {},
            "source": "#### Computing summary statistics"
        },
        {
            "cell_type": "code",
            "execution_count": null,
            "metadata": {},
            "outputs": [],
            "source": "evals_2 %>% select(score, age, gender) %>% skim()"
        },
        {
            "cell_type": "markdown",
            "metadata": {},
            "source": "- correlation (no `gender`, for it's categorical)"
        },
        {
            "cell_type": "code",
            "execution_count": null,
            "metadata": {},
            "outputs": [],
            "source": [
                "evals_2 %>% \n",
                "    get_correlation(formula = score ~ age)"
            ]
        },
        {
            "cell_type": "markdown",
            "metadata": {},
            "source": "#### Creating data visualizations"
        },
        {
            "cell_type": "code",
            "execution_count": null,
            "metadata": {},
            "outputs": [],
            "source": [
                "ggplot(evals_2, \n",
                "       aes(x = age, y = score, color = gender)) +\n",
                "    geom_point() +\n",
                "    labs(x = \"Age\", y = \"Teaching Score\", color = \"Gender\") +\n",
                "    geom_smooth(method = \"lm\", se = FALSE)"
            ]
        },
        {
            "cell_type": "markdown",
            "metadata": {},
            "source": [
                "- There are almost no women faculty over the age of 60 as evidenced by lack of dots above $x$ = 60\n",
                "- While both regression lines are negatively sloped with age (i.e., older instructors tend to have lower scores), the slope for age for the female instructors is *more* negative \n",
                "\n",
                "### Interaction model \n",
                "\n",
                "- Previous example in Basic Regression"
            ]
        },
        {
            "cell_type": "code",
            "execution_count": null,
            "metadata": {},
            "outputs": [],
            "source": [
                "# Wrangle data\n",
                "gapminder2007 <- gapminder %>%\n",
                "    filter(year == 2007) %>%\n",
                "    select(country, lifeExp, continent, gdpPercap)\n",
                "\n",
                "# Fit regression model:\n",
                "lifeExp_model <- lm(lifeExp ~ continent, data = gapminder2007)\n",
                "\n",
                "# Get regression table and kable output\n",
                "get_regression_table(lifeExp_model) %>%\n",
                "    kable(digits = 3,\n",
                "          caption = \"Regression table for life expectancy as a function of continent\",\n",
                "          booktabs = TRUE,\n",
                "          linesep = \"\") %>%\n",
                "    kable_styling(font_size = 16) %>% as.character %>% display_html"
            ]
        },
        {
            "cell_type": "markdown",
            "metadata": {},
            "source": [
                "- Recall the interpretation of the `estimate` column: intercept in Africa; offsets\n",
                "- Back to our case now"
            ]
        },
        {
            "cell_type": "code",
            "execution_count": null,
            "metadata": {},
            "outputs": [],
            "source": [
                "score_model_interaction <- lm(score ~ age * gender, data = evals_2)\n",
                "get_regression_table(score_model_interaction) %>%\n",
                "    kable(digits = 3,\n",
                "          caption = \"Regression table for interaction model\",\n",
                "          booktabs = TRUE,\n",
                "          linesep = \"\") %>%\n",
                "    kable_styling(font_size = 16) %>% as.character %>% display_html"
            ]
        },
        {
            "cell_type": "markdown",
            "metadata": {},
            "source": "- Interaction model summary"
        },
        {
            "cell_type": "code",
            "execution_count": null,
            "metadata": {},
            "outputs": [],
            "source": [
                "intercept_female <- get_regression_table(score_model_interaction) %>% \n",
                "    filter(term == \"intercept\") %>% \n",
                "    pull(estimate)\n",
                "\n",
                "slope_female <- get_regression_table(score_model_interaction) %>% \n",
                "    filter(term == \"age\") %>% \n",
                "    pull(estimate)\n",
                "\n",
                "offset_male <- get_regression_table(score_model_interaction) %>% \n",
                "    filter(term == \"gender: male\") %>% \n",
                "    pull(estimate)\n",
                "\n",
                "offset_slope_interaction <- get_regression_table(score_model_interaction) %>% \n",
                "    filter(term == \"age:gendermale\") %>% \n",
                "    pull(estimate)\n",
                "\n",
                "slope_male <- slope_female + offset_slope_interaction\n",
                "intercept_male <- intercept_female + offset_male\n",
                "\n",
                "options(digits = 4)\n",
                "tibble(Gender = c(\"Female instructors\", \"Male instructors\"),\n",
                "       Intercept = c(intercept_female, intercept_male),\n",
                "      `Slope for age` = c(slope_female, slope_male)) %>%\n",
                "    kable(digits = 4,\n",
                "          caption = \"Comparison of intercepts and slopes for interaction model\",\n",
                "          booktabs = TRUE,\n",
                "          linesep = \"\") %>%\n",
                "    kable_styling(font_size = 16) %>% as.character %>% display_html \n",
                "options(digits = 3)"
            ]
        },
        {
            "cell_type": "markdown",
            "metadata": {},
            "source": [
                "- The regression equation:\n",
                "$$\n",
                "\\begin{aligned}\n",
                "\\widehat{y} = \\widehat{\\text{score}} &= \\beta_0 + \\beta_{\\text{age}} \\cdot \\text{age} + \\beta_{\\text{male}}\\cdot\\mathbb{1}_{\\text{is male}}(x) + \\beta_{\\text{age, male}}\\cdot\\text{age}\\cdot\\mathbb{1}_{\\text{is male}}(x)\\\\\n",
                "&= 4.883 - 0.018\\cdot\\text{age} - 0.446 \\cdot \\mathbb{1}_{\\text{is male}}(x) + 0.014\\cdot \\text{age} \\cdot \\mathbb{1}_{\\text{is male}}(x)\n",
                "\\end{aligned}\n",
                "$$\n",
                "where\n",
                "$$\n",
                "\\mathbb{1}_{\\text{is male}}(x) = \\left\\{\n",
                "\\begin{array}{ll}\n",
                "1 & \\text{if } \\text{instructor } x \\text{ is male} \\\\\n",
                "0 & \\text{otherwise}\\end{array}\n",
                "\\right.\n",
                "$$\n",
                "\n",
                "### Parallel slopes model\n",
                "\n",
                "- Parallel slopes models allow for different intercepts but *force* all lines to have the same slope"
            ]
        },
        {
            "cell_type": "code",
            "execution_count": null,
            "metadata": {},
            "outputs": [],
            "source": [
                "par_slopes <- ggplot(evals_2, \n",
                "                     aes(x = age, y = score, color = gender)) +\n",
                "    geom_point() +\n",
                "    labs(x = \"Age\", y = \"Teaching Score\", color = \"Gender\") +\n",
                "    geom_parallel_slopes(se = FALSE)\n",
                "par_slopes"
            ]
        },
        {
            "cell_type": "markdown",
            "metadata": {},
            "source": [
                "- Irrespective of age, female instructors tended to receive lower teaching scores than male instructors \n",
                "- Fit the model using `lm()`; note `score ~ age + gender`"
            ]
        },
        {
            "cell_type": "code",
            "execution_count": null,
            "metadata": {},
            "outputs": [],
            "source": [
                "score_model_parallel_slopes <- lm(score ~ age + gender, data = evals_2)\n",
                "get_regression_table(score_model_parallel_slopes) %>%\n",
                "    kable(digits = 3,\n",
                "          caption = \"Regression table for parallel slopes model\",\n",
                "          booktabs = TRUE,\n",
                "          linesep = \"\") %>%\n",
                "    kable_styling(font_size = 16) %>% as.character %>% display_html"
            ]
        },
        {
            "cell_type": "markdown",
            "metadata": {},
            "source": "- Regression table for parallel model, Slopes summary"
        },
        {
            "cell_type": "code",
            "execution_count": null,
            "metadata": {},
            "outputs": [],
            "source": [
                "intercept_female_parallel <- get_regression_table(score_model_parallel_slopes) %>%\n",
                "    filter(term == \"intercept\") %>% \n",
                "    pull(estimate)\n",
                "\n",
                "offset_male_parallel <- get_regression_table(score_model_parallel_slopes) %>% \n",
                "    filter(term == \"gender: male\") %>% \n",
                "    pull(estimate)\n",
                "\n",
                "intercept_male_parallel <- intercept_female_parallel + offset_male_parallel\n",
                "\n",
                "age_coef <- get_regression_table(score_model_parallel_slopes) %>%\n",
                "    filter(term == \"age\") %>%\n",
                "    pull(estimate)\n",
                "\n",
                "options(digits = 4)\n",
                "tibble(Gender = c(\"Female instructors\", \"Male instructors\"),\n",
                "    Intercept = c(intercept_female_parallel, intercept_male_parallel),\n",
                "    `Slope for age` = c(age_coef, age_coef)) %>%\n",
                "    kable(digits = 4,\n",
                "          caption = \"Comparison of intercepts and slope for parallel slopes model\",\n",
                "          booktabs = TRUE,\n",
                "          linesep = \"\") %>%\n",
                "    kable_styling(font_size = 16) %>% as.character %>% display_html \n",
                "options(digits = 3)"
            ]
        },
        {
            "cell_type": "markdown",
            "metadata": {},
            "source": [
                "- Regression equation\n",
                "\n",
                "$$\n",
                "\\begin{aligned}\n",
                "\\widehat{y} = \\widehat{\\text{score}} &= \\beta_0 + \\beta_{\\text{age}} \\cdot \\text{age} + \\beta_{\\text{male}} \\cdot \\mathbb{1}_{\\text{is male}}(x)\\\\\n",
                "&= 4.484 - 0.009\\cdot \\text{age} + 0.191\\cdot \\mathbb{1}_{\\text{is male}}(x) \n",
                "\\end{aligned}\n",
                "$$\n",
                "\n",
                "- The graph becomes"
            ]
        },
        {
            "cell_type": "code",
            "execution_count": null,
            "metadata": {},
            "outputs": [],
            "source": [
                "interaction_plot <- ggplot(evals_2,\n",
                "                           aes(x = age, y = score, color = gender),\n",
                "                           show.legend = FALSE) +\n",
                "    geom_point() +\n",
                "    labs(x = \"Age\", y = \"Teaching Score\", title = \"Interaction model\") +\n",
                "    geom_smooth(method = \"lm\", se = FALSE) +\n",
                "    theme(legend.position = \"none\")\n",
                "\n",
                "parallel_slopes_plot <- ggplot(evals_2, \n",
                "                               aes(x = age, y = score, color = gender),\n",
                "                               show.legend = FALSE) +\n",
                "    geom_point() +\n",
                "    labs(x = \"Age\", y = \"Teaching Score\", title = \"Interaction model\") +\n",
                "    geom_parallel_slopes(se = FALSE) +\n",
                "    labs(x = \"Age\", y = \"Teaching Score\", title = \"Parallel slopes model\") +\n",
                "    theme(axis.title.y = element_blank())\n",
                "\n",
                "interaction_plot + parallel_slopes_plot"
            ]
        },
        {
            "cell_type": "markdown",
            "metadata": {},
            "source": [
                "## Two numerical explanatory variables\n",
                "\n",
                "- Using `Credit` in `ISLR2` \n",
                "- A numerical outcome variable $y$ \n",
                "  - the cardholder's credit card debt\n",
                "- Two explanatory variables:\n",
                "  - One numerical explanatory variable $x_1$, the cardholder's credit limit\n",
                "  - Another numerical explanatory variable $x_2$, the cardholder's income (in K usd)\n",
                "\n",
                "### Exploratory data analysis\n",
                "\n",
                "#### Looking at the raw data"
            ]
        },
        {
            "cell_type": "code",
            "execution_count": null,
            "metadata": {},
            "outputs": [],
            "source": [
                "credit_2 <- Credit %>% as_tibble %>% \n",
                "    select(debt = Balance, \n",
                "           credit_limit = Limit, \n",
                "           income = Income, \n",
                "           credit_rating = Rating,\n",
                "           age = Age)\n",
                "glimpse(credit_2)"
            ]
        },
        {
            "cell_type": "markdown",
            "metadata": {},
            "source": "- Tabulate"
        },
        {
            "cell_type": "code",
            "execution_count": null,
            "metadata": {},
            "outputs": [],
            "source": [
                "credit_2 %>%\n",
                "    sample_n(5) %>%\n",
                "    kable(digits = 3,\n",
                "          caption = \"Random sample of 5 credit card holders\",\n",
                "          booktabs = TRUE,\n",
                "          linesep = \"\") %>%\n",
                "    kable_styling(font_size = 16) %>% as.character %>% display_html"
            ]
        },
        {
            "cell_type": "markdown",
            "metadata": {},
            "source": "#### Computing summary statistics"
        },
        {
            "cell_type": "code",
            "execution_count": null,
            "metadata": {},
            "outputs": [],
            "source": "credit_2 %>% select(debt, credit_limit, income) %>% skim()"
        },
        {
            "cell_type": "markdown",
            "metadata": {},
            "source": "- Individual correlations"
        },
        {
            "cell_type": "code",
            "execution_count": null,
            "metadata": {},
            "outputs": [],
            "source": [
                "credit_2 %>% get_correlation(debt ~ credit_limit)\n",
                "credit_2 %>% get_correlation(debt ~ income)"
            ]
        },
        {
            "cell_type": "markdown",
            "metadata": {},
            "source": "- Correlation matrix"
        },
        {
            "cell_type": "code",
            "execution_count": null,
            "metadata": {},
            "outputs": [],
            "source": [
                "credit_2 %>%\n",
                "    select(debt, credit_limit, income) %>%\n",
                "    cor %>%\n",
                "    kable(digits = 3,\n",
                "          caption = \"Correlation coefficients between credit card debt, credit limit, and income\",\n",
                "          booktabs = TRUE,\n",
                "          linesep = \"\") %>%\n",
                "    kable_styling(font_size = 16) %>% as.character %>% display_html"
            ]
        },
        {
            "cell_type": "markdown",
            "metadata": {},
            "source": [
                "- There is a high degree of *collinearity* between `credit_limit` and `income` explanatory variables\n",
                "  - Collinearity (or multicollinearity) is a phenomenon where one explanatory variable in a multiple regression model is highly correlated with another \n",
                "  - Leave them out for intermediate-level book on regression modeling\n",
                "- Relationship between credit card debt and credit limit/income"
            ]
        },
        {
            "cell_type": "code",
            "execution_count": null,
            "metadata": {},
            "outputs": [],
            "source": [
                "model3_balance_vs_limit_plot <- ggplot(credit_2, \n",
                "                                       aes(x = credit_limit, y = debt)) +\n",
                "    geom_point() +\n",
                "    labs(x = \"Credit limit (in $)\", y = \"Credit card debt (in $)\",\n",
                "         title = \"Debt and credit limit\") +\n",
                "    geom_smooth(method = \"lm\", se = FALSE) +\n",
                "    scale_y_continuous(limits = c(0, 2000))\n",
                "\n",
                "model3_balance_vs_income_plot <- ggplot(credit_2, \n",
                "                                        aes(x = income, y = debt)) +\n",
                "    geom_point() +\n",
                "    labs(x = \"Income (in $1000)\", y = \"Credit card debt (in $)\",\n",
                "         title = \"Debt and income\") +\n",
                "    geom_smooth(method = \"lm\", se = FALSE) +\n",
                "    scale_y_continuous(limits = c(0, 2000)) +\n",
                "    theme(axis.title.y = element_blank())\n",
                "\n",
                "model3_balance_vs_limit_plot + model3_balance_vs_income_plot"
            ]
        },
        {
            "cell_type": "markdown",
            "metadata": {},
            "source": [
                "### Learning Check\n",
                "\n",
                "Conduct a new exploratory data analysis with the same outcome variable $y$ `debt` but with `credit_rating` and `age` as the new explanatory variables $x_1$ and $x_2$. What can you say about the relationship between a credit card holder's debt and their credit rating and age?"
            ]
        },
        {
            "cell_type": "code",
            "execution_count": null,
            "metadata": {},
            "outputs": [],
            "source": ""
        },
        {
            "cell_type": "markdown",
            "metadata": {},
            "source": [
                "## Model Selection\n",
                "\n",
                "### Model selection using visualizations"
            ]
        },
        {
            "cell_type": "code",
            "execution_count": null,
            "metadata": {},
            "outputs": [],
            "source": [
                "grey_interaction_plot <- interaction_plot + scale_color_grey()\n",
                "grey_parallel_slopes_plot <- parallel_slopes_plot + scale_color_grey()\n",
                "grey_interaction_plot + grey_parallel_slopes_plot"
            ]
        },
        {
            "cell_type": "markdown",
            "metadata": {},
            "source": [
                "- \"Occam's Razor\": \n",
                "> All other things being equal, simpler solutions are more likely to be correct than complex ones \n",
                "- In a modeling framework, Occam's Razor can be restated as \n",
                "> All other things being equal, simpler models are to be preferred over complex ones\n",
                "\n",
                "- Consider an example where the additional complexity might *not* be warranted: `MA_schools` data in `moderndive`\n",
                "- The numerical outcome variable $y$\n",
                "  - Average SAT math score for a given high school\n",
                "- A numerical explanatory variable $x_1$ \n",
                "  - The percentage of that high school's student body that are economically disadvantaged\n",
                "- A categorical explanatory variable $x_2$ \n",
                "  - The school size as measured by enrollment\n",
                "  - small (13-341 students), medium (342-541 students), and large (542-4264 students)"
            ]
        },
        {
            "cell_type": "code",
            "execution_count": null,
            "metadata": {},
            "outputs": [],
            "source": [
                "p1 <- ggplot(MA_schools, \n",
                "             aes(x = perc_disadvan, y = average_sat_math, color = size)) +\n",
                "    geom_point(alpha = 0.25) +\n",
                "    geom_smooth(method = \"lm\", se = FALSE) +\n",
                "    labs(x = \"Percent economically disadvantaged\", y = \"Math SAT Score\",\n",
                "         color = \"School size\", title = \"Interaction model\") +\n",
                "    theme(legend.position = \"none\")\n",
                "p2 <- ggplot(MA_schools, \n",
                "             aes(x = perc_disadvan, y = average_sat_math, color = size)) +\n",
                "    geom_point(alpha = 0.25) +\n",
                "    geom_parallel_slopes(se = FALSE) + \n",
                "    labs(x = \"Percent economically disadvantaged\", y = \"Math SAT Score\",\n",
                "         color = \"School size\", title = \"Parallel slopes model\") +\n",
                "    theme(axis.title.y = element_blank())\n",
                "p1 + p2"
            ]
        },
        {
            "cell_type": "markdown",
            "metadata": {},
            "source": [
                "- Compare the regression tables for the interaction and parallel slopes models\n",
                "- Interaction model"
            ]
        },
        {
            "cell_type": "code",
            "execution_count": null,
            "metadata": {},
            "outputs": [],
            "source": [
                "model_2_interaction <- lm(average_sat_math ~ perc_disadvan * size,\n",
                "                          data = MA_schools)\n",
                "get_regression_table(model_2_interaction) %>%\n",
                "    kable(digits = 3,\n",
                "          caption = \"Interaction model regression table\",\n",
                "          booktabs = TRUE,\n",
                "          linesep = \"\") %>%\n",
                "    kable_styling(font_size = 16) %>% as.character %>% display_html"
            ]
        },
        {
            "cell_type": "markdown",
            "metadata": {},
            "source": "- Parallel slopes model"
        },
        {
            "cell_type": "code",
            "execution_count": null,
            "metadata": {},
            "outputs": [],
            "source": [
                "model_2_parallel_slopes <- lm(average_sat_math ~ perc_disadvan + size,\n",
                "                              data = MA_schools)\n",
                "get_regression_table(model_2_parallel_slopes) %>%\n",
                "    kable(digits = 3,\n",
                "          caption = \"Parallel slopes regression table\",\n",
                "          booktabs = TRUE,\n",
                "          linesep = \"\") %>%\n",
                "    kable_styling(font_size = 16) %>% as.character %>% display_html"
            ]
        },
        {
            "cell_type": "markdown",
            "metadata": {},
            "source": [
                "### Model selection using R-squared\n",
                "\n",
                "- Get regression points"
            ]
        },
        {
            "cell_type": "code",
            "execution_count": null,
            "metadata": {},
            "outputs": [],
            "source": "get_regression_points(model_2_interaction)"
        },
        {
            "cell_type": "markdown",
            "metadata": {},
            "source": "- Use the `var()` summary function within a `summarize()` to compute the variance of these three terms:"
        },
        {
            "cell_type": "code",
            "execution_count": null,
            "metadata": {},
            "outputs": [],
            "source": [
                "get_regression_points(model_2_interaction) %>% \n",
                "    summarize(var_y = var(average_sat_math), \n",
                "              var_y_hat = var(average_sat_math_hat), \n",
                "              var_residual = var(residual))"
            ]
        },
        {
            "cell_type": "markdown",
            "metadata": {},
            "source": [
                "- The variance of $y$ is equal to the variance of $\\widehat{y}$ plus the variance of the residuals\n",
                "- The variance of $y$ ($\\text{var}(y)$) tells us how much the original data vary \n",
                "- The variance of $\\widehat{y}$ ($\\text{var}(\\widehat{y})$) tells us how much the fitted values from the assumed model vary\n",
                "- The variance of the residuals tells us how much do \"the left-overs\" from the assumed model vary\n",
                "- Define $R^2$:\n",
                "$$\n",
                "R^2 = \\frac{\\text{var}(\\widehat{y})}{\\text{var}(y)}\n",
                "$$\n",
                "  - *The proportion of the spread/variation of the outcome variable $y$ that is explained by the model*, where the model's explanatory power is embedded in the fitted values $\\widehat{y}$ \n",
                "  - Since it can be mathematically proven that $0 \\leqslant\\text{var}(\\widehat{y})\\leqslant\\text{var}(y)$,\n",
                "$$\n",
                "0 \\leqslant R^2 \\leqslant 1\n",
                "$$\n",
                "  - $R^2$ values of 0 tell us that our model explains 0% of the variation in $y$; The model is a poor fit\n",
                "  - $R^2$ values of 1 tell us that our model explains 100% of the variation in $y$"
            ]
        },
        {
            "cell_type": "code",
            "execution_count": null,
            "metadata": {},
            "outputs": [],
            "source": [
                "variances_interaction <- get_regression_points(model_2_interaction) %>% \n",
                "    summarize(var_y = var(average_sat_math), \n",
                "              var_y_hat = var(average_sat_math_hat), \n",
                "              var_residual = var(residual)) %>% \n",
                "    mutate(model = \"Interaction\", r_squared = var_y_hat/var_y)\n",
                "\n",
                "variances_parallel_slopes <- get_regression_points(model_2_parallel_slopes) %>% \n",
                "    summarize(var_y = var(average_sat_math), \n",
                "              var_y_hat = var(average_sat_math_hat), \n",
                "              var_residual = var(residual)) %>% \n",
                "    mutate(model = \"Parallel slopes\", r_squared = var_y_hat/var_y)\n",
                "\n",
                "bind_rows(variances_interaction,\n",
                "          variances_parallel_slopes) %>% \n",
                "    select(model, var_y, var_y_hat, var_residual, r_squared) %>% \n",
                "    kable(digits = 3,\n",
                "          caption = \"Comparing variances from interaction and parallel slopes models for MA school data\", \n",
                "          booktabs = TRUE,\n",
                "          linesep = \"\") %>% \n",
                "    kable_styling(font_size = 16) %>% as.character %>% display_html"
            ]
        },
        {
            "cell_type": "markdown",
            "metadata": {},
            "source": [
                "- The *additional complexity* of the interaction model only improves our $R^2$ value by a near zero amount, thus we are inclined to favor the \"simpler\" parallel slopes model\n",
                "- Repeat this $R^2$ comparison between interaction and parallel slopes model for the models of $y$ = teaching score for UT Austin professors:"
            ]
        },
        {
            "cell_type": "code",
            "execution_count": null,
            "metadata": {},
            "outputs": [],
            "source": [
                "variances_interaction <- get_regression_points(score_model_interaction) %>% \n",
                "  summarize(var_y = var(score), var_y_hat = var(score_hat), var_residual = var(residual)) %>% \n",
                "  mutate(model = \"Interaction\", r_squared = var_y_hat/var_y)\n",
                "variances_parallel_slopes <- get_regression_points(score_model_parallel_slopes) %>% \n",
                "  summarize(var_y = var(score), var_y_hat = var(score_hat), var_residual = var(residual)) %>% \n",
                "  mutate(model = \"Parallel slopes\", r_squared = var_y_hat/var_y)\n",
                "\n",
                "bind_rows(variances_interaction, variances_parallel_slopes) %>%\n",
                "    select(model, var_y, var_y_hat, var_residual, r_squared) %>% \n",
                "    kable(digits = 3,\n",
                "          caption = \"Comparing variances from interaction and parallel slopes models for UT Austin data\", \n",
                "          booktabs = TRUE,\n",
                "          linesep = \"\") %>% \n",
                "    kable_styling(font_size = 16) %>% as.character %>% display_html"
            ]
        },
        {
            "cell_type": "markdown",
            "metadata": {},
            "source": [
                "- Since the interaction model over the parallel slopes model improves our $R^2$ value by a relatively large amount, it could be argued that the additional complexity is warranted \n",
                "- Use `get_regression_summaries()` to quickly automate calculating $R^2$ for both models"
            ]
        },
        {
            "cell_type": "code",
            "execution_count": null,
            "metadata": {},
            "outputs": [],
            "source": [
                "# R-squared for interaction model:\n",
                "get_regression_summaries(model_2_interaction)\n",
                "# R-squared for parallel slopes model:\n",
                "get_regression_summaries(model_2_parallel_slopes)"
            ]
        },
        {
            "cell_type": "markdown",
            "metadata": {},
            "source": "### Correlation coefficient"
        },
        {
            "cell_type": "code",
            "execution_count": null,
            "metadata": {},
            "outputs": [],
            "source": [
                "credit_2 %>%\n",
                "    select(debt, income) %>%\n",
                "    mutate(income = income * 1000) %>%\n",
                "    cor %>%\n",
                "    kable(digits = 3,\n",
                "          caption = \"Correlation between income (in dollars) and credit card debt\",\n",
                "          booktabs = TRUE,\n",
                "          linesep = \"\") %>%\n",
                "    kable_styling(font_size = 16) %>% as.character %>% display_html"
            ]
        },
        {
            "cell_type": "markdown",
            "metadata": {},
            "source": [
                "- The correlation coefficient is *invariant to linear transformations*\n",
                "\n",
                "### Simpson's Paradox\n",
                "\n",
                "- Simpson's Paradox occurs when trends that exist for the data in aggregate either disappear or reverse when the data are broken down into groups \n",
                "\n",
                "#### Example 1: Success rates of two treatments for kidney stones\n",
                "\n",
                "|            | Treatment A       | Treatment B       |\n",
                "|:----------:|:-----------------:|:-----------------:|\n",
                "|Big Stone   | **93% (81/87)**   | 87% (234/270)     |\n",
                "|Small Stone | **73% (192/263)** | 69% (55/80)       |\n",
                "|Both        | 78% (273/350)     | **83% (289/350)** |\n",
                "\n",
                "#### Example 2: Batting averages of two famous baseball players\n",
                "\n",
                "|            | Derek Jeter        | David Justice      |\n",
                "|:----------:|:------------------:|:------------------:|\n",
                "|1995        | .250 (12/48)       | **.253 (104/411)** |\n",
                "|1996        | .314 (183/582)     | **.321 (45/140)**  |\n",
                "|Combined    | **.310 (195/630)** | .270 (149/551)     |\n",
                "\n",
                "#### Example in Linear Regression"
            ]
        },
        {
            "cell_type": "code",
            "execution_count": null,
            "metadata": {},
            "outputs": [],
            "source": "model3_balance_vs_income_plot"
        },
        {
            "cell_type": "markdown",
            "metadata": {},
            "source": [
                "- The right hand plot suggested that the relationship between credit card `debt` and `income` was *positive*\n",
                "- The multiple regression results suggested that the relationship between `debt` and `income` was *negative*"
            ]
        },
        {
            "cell_type": "code",
            "execution_count": null,
            "metadata": {},
            "outputs": [],
            "source": [
                "debt_model <- lm(debt ~ credit_limit + income, data = credit_2)\n",
                "credit_line <- get_regression_table(debt_model) %>%\n",
                "    pull(estimate)\n",
                "get_regression_table(debt_model) %>%\n",
                "    kable(digits = 3,\n",
                "          caption = \"Multiple regression results\",\n",
                "          booktabs = TRUE,\n",
                "          linesep = \"\") %>%\n",
                "    kable_styling(font_size = 16) %>% as.character %>% display_html"
            ]
        },
        {
            "cell_type": "markdown",
            "metadata": {},
            "source": "- While in *isolation* the relationship between `debt` and `income` is positive, when taking into account `credit_limit` as well the relationship becomes negative"
        },
        {
            "cell_type": "code",
            "execution_count": null,
            "metadata": {},
            "outputs": [],
            "source": [
                "ggplot(credit_2, aes(x = credit_limit)) +\n",
                "    geom_histogram(color = \"white\") +\n",
                "    geom_vline(xintercept = quantile(credit_2$credit_limit, probs = c(0.25, 0.5, 0.75)), linetype = \"dashed\", size = 1) +\n",
                "    labs(x = \"Credit limit\", title = \"Credit limit and 4 credit limit brackets.\")"
            ]
        },
        {
            "cell_type": "markdown",
            "metadata": {},
            "source": [
                "- 25% of credit limits were between 0 and 3,088: \"low\" `credit_limit` bracket\n",
                "- 25% of credit limits were between 3,088 and 4,622: \"medium-low\" `credit_limit` bracket\n",
                "- 25% of credit limits were between 4,622 and 5,873: \"medium-high\" `credit_limit` bracket\n",
                "- 25% of credit limits were over 5,873: \"high\" `credit_limit` bracket"
            ]
        },
        {
            "cell_type": "code",
            "execution_count": null,
            "metadata": {},
            "outputs": [],
            "source": [
                "credit_2 <- credit_2 %>%\n",
                "    mutate(limit_bracket = cut_number(credit_limit, 4)) %>%\n",
                "    mutate(limit_bracket = fct_recode(limit_bracket,\n",
                "      \"low\" =  \"[855, 3.09e+03]\",\n",
                "      \"med-low\" = \"(3.09e+03, 4.62e+03]\",\n",
                "      \"med-high\" = \"(4.62e+03, 5.87e+03]\",\n",
                "      \"high\" = \"(5.87e+03, 1.39e+04]\"))\n",
                "\n",
                "model3_balance_vs_income_plot <- ggplot(credit_2, \n",
                "                                        aes(x = income, y = debt)) +\n",
                "    geom_point() +\n",
                "    labs(x = \"Income (in $1000)\", y = \"Credit card debt (in $)\",\n",
                "    title = \"Two scatterplots of credit card debt vs income\") +\n",
                "    geom_smooth(method = \"lm\", se = FALSE) +\n",
                "    scale_y_continuous(limits = c(0, NA))\n",
                "\n",
                "model3_balance_vs_income_plot_colored <- ggplot(credit_2,\n",
                "    aes(x = income, y = debt, col = limit_bracket)) +\n",
                "    geom_point() +\n",
                "    geom_smooth(method = \"lm\", se = FALSE) +\n",
                "    labs(x = \"Income (in $1000)\", y = \"Credit card debt (in $)\",\n",
                "         color = \"Credit limit\\nbracket\") +\n",
                "    scale_y_continuous(limits = c(0, NA)) +\n",
                "    theme(axis.title.y = element_blank())\n",
                "\n",
                "model3_balance_vs_income_plot + model3_balance_vs_income_plot_colored"
            ]
        },
        {
            "cell_type": "markdown",
            "metadata": {},
            "source": [
                "- The left-hand plot shows the regular scatterplot and the single regression line\n",
                "  - Focus on the relationship between `debt` and `income` in *aggregate*\n",
                "- The right-hand plot shows the *colored scatterplot*, where the color aesthetic is mapped to \"`credit_limit` bracket\" \n",
                "  - Focus on the relationship between `debt` and `income` *broken down by `credit_limit` bracket*\n",
                "  - Four *separate* relationships between `debt` and `income`\n",
                "- The `credit_limit` is a *confounding variable* of the relationship between credit card `debt` and `income`"
            ]
        }
    ],
    "metadata": {
        "anaconda-cloud": "",
        "kernelspec": {
            "display_name": "R",
            "langauge": "R",
            "name": "ir"
        },
        "language_info": {
            "codemirror_mode": "r",
            "file_extension": ".r",
            "mimetype": "text/x-r-source",
            "name": "R",
            "pygments_lexer": "r",
            "version": "4.1.3"
        }
    },
    "nbformat": 4,
    "nbformat_minor": 1
}
