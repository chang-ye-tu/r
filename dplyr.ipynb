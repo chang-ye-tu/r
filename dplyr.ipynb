{
 "cells": [
  {
   "cell_type": "markdown",
   "metadata": {},
   "source": [
    "# Data Wrangling: `dplyr`\n",
    "\n",
    "## observation $\\equiv$ row, variable $\\equiv$ column\n",
    "\n",
    "## Datasets `nycflights13`\n",
    "\n",
    "### Needed packages"
   ]
  },
  {
   "cell_type": "code",
   "execution_count": null,
   "metadata": {},
   "outputs": [],
   "source": [
    "library(tidyverse)\n",
    "library(nycflights13)\n",
    "\n",
    "# Packages needed internally\n",
    "library(knitr)\n",
    "library(kableExtra)\n",
    "library(IRdisplay)"
   ]
  },
  {
   "cell_type": "markdown",
   "metadata": {},
   "source": [
    "### `nycflights13` package\n",
    "\n",
    "- `nycflights13`: data related to all domestic flights departing from one of New York City's three main airports in 2013\n",
    "  - Newark Liberty International (EWR)\n",
    "  - John F. Kennedy International (JFK)\n",
    "  - LaGuardia Airport (LGA)\n",
    "- Contains five datasets saved in five data frames\n",
    "  - `flights`: Information on all 336,776 flights\n",
    "  - `airlines`: A table matching airline names and their two-letter International Air Transport Association (IATA) airline codes (a.k.a. carrier codes) for 16 airline companies\n",
    "  - `planes`: Information about each of the 3,322 physical aircraft used\n",
    "  - `weather`: Hourly meteorological data for each of the three NYC airports\n",
    "    - Has 26,115 rows, roughly corresponding to the 365 $\\times$ 24 $\\times$ 3 = 26,280 possible hourly measurements one can observe at three locations over the course of a year\n",
    "  - `airports`: Names, codes, and locations of the 1,458 domestic destinations\n",
    "\n",
    "### Ways of exploring data frames\n",
    "\n",
    "1. Using the `View()` function, which brings up built-in data viewer\n",
    "1. Using the `glimpse()` function included in `dplyr`\n",
    "1. Using the `kable()` function included in `knitr`"
   ]
  },
  {
   "cell_type": "code",
   "execution_count": null,
   "metadata": {},
   "outputs": [],
   "source": [
    "glimpse(flights)"
   ]
  },
  {
   "cell_type": "markdown",
   "metadata": {},
   "source": []
  },
  {
   "cell_type": "code",
   "execution_count": null,
   "metadata": {},
   "outputs": [],
   "source": [
    "kable(airlines)"
   ]
  },
  {
   "cell_type": "markdown",
   "metadata": {},
   "source": [
    "### Identification and measurement variables"
   ]
  },
  {
   "cell_type": "code",
   "execution_count": null,
   "metadata": {},
   "outputs": [],
   "source": [
    "glimpse(airports)"
   ]
  },
  {
   "cell_type": "markdown",
   "metadata": {},
   "source": [
    "- `faa` and `name` are *identification variables*, variables that uniquely identify each observation\n",
    "- The remaining variables (`lat`, `lon`, `alt`, `tz`, `dst`, `tzone`) are called *measurement* or *characteristic* variables: variables that describe properties of each observation \n",
    "\n",
    "- Sometimes a single variable might not be enough to uniquely identify each observation; combinations of variables might be needed \n",
    "- For organizational purposes it is considered good practice to have identification variables in the leftmost columns of the data frame.\n",
    "\n",
    "## Introduction to `dplyr`\n",
    "\n",
    "- Key functions of `dplyr`:\n",
    "  1. `filter()` to pick out a subset of rows\n",
    "  1. `summarize()` to generate one or more of its columns (variables) with a *summary statistic*: e.g. the median, the average, etc \n",
    "  1. `group_by()` to group its rows: assign different rows to be part of the same *group*\n",
    "  1. `mutate()` its existing columns (variables) to create new ones\n",
    "  1. `arrange()` its rows: e.g. sorting in ascending or descending order of some variables\n",
    "  1. `join()` it with another data frame by matching along a \"key\" variable: merge these two data frames together\n",
    "\n",
    "## The pipe operator: `%>%` \n",
    "\n",
    "- The pipe operator `%>%` allows us to combine multiple operations into a single sequential *chain* of actions\n",
    "- Start with an example \n",
    "  - Say you would like to perform a sequence of operations on a data frame `x` using functions `action1()`, `action2()`, `action3()`, and `action4()`\n",
    "    1. Take `x` *then*\n",
    "    1. Use `x` as an input to a function `action1()` *then*\n",
    "    1. Use the output of `action1(x)` as an input to a function `action2()` *then*\n",
    "    1. Use the output of `action2(action1(x))` as an input to a function `action3()`\n",
    "    1. Use the output of `action3(action2(action1(x)))` as an input to a function `action4()`\n",
    "  - One way to achieve this sequence of operations is by using nesting parentheses as"
   ]
  },
  {
   "cell_type": "code",
   "execution_count": null,
   "metadata": {},
   "outputs": [],
   "source": [
    "action4(action3(action2(action1(x))))"
   ]
  },
  {
   "cell_type": "markdown",
   "metadata": {},
   "source": [
    "- This code is somehow hard to read \n",
    "- You can imagine that this will get progressively harder to read as the number of functions applied increases and arguments in each function increase as well\n",
    "- This is where `%>%` comes in handy\n",
    "  - `%>%` takes the output of one function and then \"pipes\" it to be the input of the next function\n",
    "  - A helpful trick is to read `%>%` as \"then\" or \"and then.\" \n",
    "  - For example, one obtain the same output as the sequence of functions as follows"
   ]
  },
  {
   "cell_type": "code",
   "execution_count": null,
   "metadata": {},
   "outputs": [],
   "source": [
    "x %>% \n",
    "  action1() %>% \n",
    "  action2() %>% \n",
    "  action3() %>%\n",
    "  action4()"
   ]
  },
  {
   "cell_type": "markdown",
   "metadata": {},
   "source": [
    "- Read this sequence as:\n",
    "  1. Take `x` *then*\n",
    "  1. Use this output as the input to the next function `action1()` *then*\n",
    "  1. Use this output as the input to the next function `action2()` *then*\n",
    "  1. Use this output as the input to the next function `action3()` *then*\n",
    "  1. Use this output as the input to the next function `action4()`\n",
    "\n",
    "- While both approaches achieve the same goal, the latter is much more human-readable because one can clearly read the sequence of operations line-by-line \n",
    " \n",
    "- Throughout this introduction:\n",
    "  1. The starting value `x` will be a data frame\n",
    "  1. The sequence of functions `action1()`, `action2()`, `action3()`, and `action4()` will mostly be a sequence of any number of the six data wrangling verb-named key functions \n",
    "  1. The result will be the transformed/modified data frame\n",
    "  \n",
    "- Many more advanced data wrangling functions than just the key six ones listed\n",
    "\n",
    "## `filter` rows \n",
    "\n",
    "![Diagram of `filter()` rows operation](./fig/filter.png)\n",
    "\n",
    "- Focusing flights from New York City to Portland, Oregon\n",
    "  - The `dest` destination code (or airport code) for Portland, Oregon is `\"PDX\"`\n",
    "  - Run the following and look at the results to ensure that only flights heading to Portland are chosen"
   ]
  },
  {
   "cell_type": "code",
   "execution_count": null,
   "metadata": {},
   "outputs": [],
   "source": [
    "portland_flights <- flights %>% \n",
    "    filter(dest == \"PDX\")\n",
    "View(portland_flights)"
   ]
  },
  {
   "cell_type": "markdown",
   "metadata": {},
   "source": [
    "- Note the order of the code\n",
    "  - Take the `flights` data frame *then* `filter()` the data frame so that only those where the `dest` equals `\"PDX\"` are included\n",
    "  - Test for equality using `==`, not `=`\n",
    "  - One can use other operators `>`, `<`, `>=`, `<=`, `!=`\n",
    "  - One can combine multiple criteria using operators `&`, `|`\n",
    "- See these in action\n",
    "  - Filter `flights` for all rows that departed from JFK *and* were heading to Burlington, Vermont (`\"BTV\"`) or Seattle, Washington (`\"SEA\"`) *and* departed in the months of October, November, or December:"
   ]
  },
  {
   "cell_type": "code",
   "execution_count": null,
   "metadata": {},
   "outputs": [],
   "source": [
    "btv_sea_flights_fall <- flights %>% \n",
    "    filter(origin == \"JFK\" & (dest == \"BTV\" | dest == \"SEA\") & month >= 10)\n",
    "View(btv_sea_flights_fall)"
   ]
  },
  {
   "cell_type": "markdown",
   "metadata": {},
   "source": [
    "- One can skip the use of `&` and just separate the conditions with a comma:"
   ]
  },
  {
   "cell_type": "code",
   "execution_count": null,
   "metadata": {},
   "outputs": [],
   "source": [
    "btv_sea_flights_fall <- flights %>% \n",
    "    filter(origin == \"JFK\", (dest == \"BTV\" | dest == \"SEA\"), month >= 10)\n",
    "View(btv_sea_flights_fall)"
   ]
  },
  {
   "cell_type": "markdown",
   "metadata": {},
   "source": [
    "- Filter rows corresponding to flights that didn't go to Burlington, VT or Seattle, WA:"
   ]
  },
  {
   "cell_type": "code",
   "execution_count": null,
   "metadata": {},
   "outputs": [],
   "source": [
    "not_BTV_SEA <- flights %>% \n",
    "    filter(!(dest == \"BTV\" | dest == \"SEA\"))\n",
    "View(not_BTV_SEA)"
   ]
  },
  {
   "cell_type": "markdown",
   "metadata": {},
   "source": [
    "- Note the careful use of parentheses around the `(dest == \"BTV\" | dest == \"SEA\")`\n",
    "- If we didn't use parentheses, as follows:"
   ]
  },
  {
   "cell_type": "code",
   "execution_count": null,
   "metadata": {},
   "outputs": [],
   "source": [
    "flights %>% filter(!dest == \"BTV\" | dest == \"SEA\")"
   ]
  },
  {
   "cell_type": "markdown",
   "metadata": {},
   "source": [
    "- Returning all flights not headed to `\"BTV\"` *or* those headed to `\"SEA\"` \n",
    "- A larger number of airports one want to filter for, say `\"SEA\"`, `\"SFO\"`, `\"PDX\"`, `\"BTV\"`, and `\"BDL\"`\n",
    "  - Continue to use the `|` (*or*) operator:"
   ]
  },
  {
   "cell_type": "code",
   "execution_count": null,
   "metadata": {},
   "outputs": [],
   "source": [
    "many_airports <- flights %>% \n",
    "    filter(dest == \"SEA\" | dest == \"SFO\" | dest == \"PDX\" | \n",
    "           dest == \"BTV\" | dest == \"BDL\")"
   ]
  },
  {
   "cell_type": "markdown",
   "metadata": {},
   "source": [
    "- This will get unwieldy to write as we progressively include more airports\n",
    "  - A slightly shorter approach uses the `%in%` operator along with the `c()` function"
   ]
  },
  {
   "cell_type": "code",
   "execution_count": null,
   "metadata": {},
   "outputs": [],
   "source": [
    "many_airports <- flights %>% \n",
    "    filter(dest %in% c(\"SEA\", \"SFO\", \"PDX\", \"BTV\", \"BDL\"))\n",
    "View(many_airports)"
   ]
  },
  {
   "cell_type": "markdown",
   "metadata": {},
   "source": [
    "- `filter()` is recommended to be among the first verbs one consider applying to the data\n",
    "  - It narrows down the scope of the data frame to just the observations one care about \n",
    "\n",
    "### Learning Check\n",
    "\n",
    "What's another way using the \"not\" operator `!` to filter only the rows that are not going to Burlington, VT nor Seattle, WA in the `flights` data frame? Test this out using the code above.\n",
    "\n",
    "**Solution**:"
   ]
  },
  {
   "cell_type": "code",
   "execution_count": null,
   "metadata": {},
   "outputs": [],
   "source": [
    "# Original\n",
    "not_BTV_SEA <- flights %>%\n",
    "    filter(!(dest == \"BTV\" | dest == \"SEA\"))\n",
    "\n",
    "# Alternative way\n",
    "not_BTV_SEA <- flights %>%\n",
    "    filter(!dest == \"BTV\" & !dest == \"SEA\")\n",
    "\n",
    "# Yet another way\n",
    "not_BTV_SEA <- flights %>%\n",
    "    filter(dest != \"BTV\" & dest != \"SEA\")"
   ]
  },
  {
   "cell_type": "markdown",
   "metadata": {},
   "source": [
    "## `summarize` variables \n",
    "\n",
    "- Summary statistics are single numerical values that summarize a large number of values\n",
    "  - Commonly known examples of summary statistics\n",
    "    - The mean (AKA the average)\n",
    "    - The median (the middle value)\n",
    "    - The sum\n",
    "    - The smallest value (AKA the minimum), the largest value (AKA the maximum)\n",
    "    - The standard deviation\n",
    "\n",
    "- Example: calculate two summary statistics of the `temp` variable in the `weather` data frame -- the mean and the standard deviation\n",
    "  - The `mean()` and `sd()` *summary functions* in R are needed \n",
    "\n",
    "![Diagram illustrating a summary function in R](./fig/summary.png)\n",
    "\n",
    "- The `summarize()` function takes in a data frame and returns a data frame with only one row corresponding to the summary statistics \n",
    "  - Save the results in a new data frame `summary_temp` that will have two columns/variables: the `mean` and the `std_dev`\n",
    "\n",
    "![Diagram of `summarize()` rows](./fig/summarize1.png)"
   ]
  },
  {
   "cell_type": "code",
   "execution_count": null,
   "metadata": {},
   "outputs": [],
   "source": [
    "(summary_temp <- weather %>% \n",
    "    summarize(mean = mean(temp), \n",
    "\t      std_dev = sd(temp)))"
   ]
  },
  {
   "cell_type": "markdown",
   "metadata": {},
   "source": [
    "- Set `na.rm` to `TRUE`, where `rm` is short for \"remove\", to ignore any `NA` missing values and only return the summary value for all non-missing values:"
   ]
  },
  {
   "cell_type": "code",
   "execution_count": null,
   "metadata": {},
   "outputs": [],
   "source": [
    "(summary_temp <- weather %>% \n",
    "  summarize(mean = mean(temp, na.rm = TRUE), \n",
    "            std_dev = sd(temp, na.rm = TRUE)))"
   ]
  },
  {
   "cell_type": "markdown",
   "metadata": {},
   "source": [
    "- R does not ignore rows with missing values by default\n",
    "- One should be mindful of the missingness and any potential causes of this missingness throughout the analysis\n",
    "\n",
    "What are other summary functions we can use ? \n",
    "- One can use any function in R that takes many values and returns just one inside the `summarize()` verb to compute summary statistics\n",
    "- Some selected functions\n",
    "  - `mean()`: the average\n",
    "  - `sd()`: the standard deviation, which is a measure of spread\n",
    "  - `min()` and `max()`: the minimum and maximum values, respectively\n",
    "  - `IQR()`: interquartile range\n",
    "  - `sum()`: the total amount when adding multiple numbers\n",
    "  - `n()`: a count of the number of rows in each group -- this particular summary function will make more sense when `group_by()` is covered\n",
    "\n",
    "### Learning Check\n",
    "\n",
    "Say a doctor is studying the effect of smoking on lung cancer for a large number of patients who have records measured at five year intervals. She notices that a large number of patients have missing data points because the patient has died, so she chooses to ignore these patients in her analysis. What is wrong with this doctor's approach?\n",
    "\n",
    "**Solution**: The missing patients may have died of lung cancer! So to ignore them might seriously **bias** your results! It is very important to think of what the consequences on your analysis are of ignoring missing data! Ask yourself:\n",
    "\n",
    "* There is a systematic reasons why certain values are missing? If so, you might be biasing your results!\n",
    "* If there isn't, then it might be ok to \"sweep missing values under the rug.\"\n",
    "\n",
    "******\n",
    "\n",
    "Modify the above `summarize` function to create `summary_temp` to also use the `n()` summary function: `summarize(count = n())`. What does the returned value correspond to?\n",
    "\n",
    "**Solution**: It corresponds to a count of the number of observations/rows:"
   ]
  },
  {
   "cell_type": "code",
   "execution_count": null,
   "metadata": {},
   "outputs": [],
   "source": [
    "weather %>%\n",
    "  summarize(count = n())"
   ]
  },
  {
   "cell_type": "markdown",
   "metadata": {},
   "source": [
    "******\n",
    "\n",
    "Why doesn't the following code work?  Run the code line by line instead of all at once, and then look at the data.  In other words, run `summary_temp <- weather %>% summarize(mean = mean(temp, na.rm = TRUE))` first."
   ]
  },
  {
   "cell_type": "code",
   "execution_count": null,
   "metadata": {},
   "outputs": [],
   "source": [
    "summary_temp <- weather %>%\n",
    "    summarize(mean = mean(temp, na.rm = TRUE)) %>%\n",
    "    summarize(std_dev = sd(temp, na.rm = TRUE))"
   ]
  },
  {
   "cell_type": "markdown",
   "metadata": {},
   "source": [
    "**Solution**: Consider the output of only running the first two lines:"
   ]
  },
  {
   "cell_type": "code",
   "execution_count": null,
   "metadata": {},
   "outputs": [],
   "source": [
    "weather %>%\n",
    "    summarize(mean = mean(temp, na.rm = TRUE))"
   ]
  },
  {
   "cell_type": "markdown",
   "metadata": {},
   "source": [
    "Because after the first `summarize()`, the variable `temp` disappears as it has been collapsed to the value `mean`. So when we try to run the second `summarize()`, it can't find the variable `temp` to compute the standard deviation of. \n",
    "\n",
    "## `group_by` rows\n",
    "\n",
    "![Diagram of `group_by()` and `summarize()`.](./fig/group_summary.png)\n",
    "\n",
    "- Say one would like 12 mean temperatures for each of the 12 months separately\n",
    "  - One can do this by \"grouping\" temperature observations by the 12 values of the variable `month`:"
   ]
  },
  {
   "cell_type": "code",
   "execution_count": null,
   "metadata": {},
   "outputs": [],
   "source": [
    "(summary_monthly_temp <- weather %>% \n",
    "    group_by(month) %>% \n",
    "    summarize(mean = mean(temp, na.rm = TRUE), \n",
    "              std_dev = sd(temp, na.rm = TRUE)))"
   ]
  },
  {
   "cell_type": "markdown",
   "metadata": {},
   "source": [
    "- Important: `group_by()` doesn't change data frames by itself -- it changes the *meta-data*, specifically the grouping structure \n",
    "- For examples, consider the operations to `diamonds` data frame included in `ggplot2`:"
   ]
  },
  {
   "cell_type": "code",
   "execution_count": null,
   "metadata": {},
   "outputs": [],
   "source": [
    "diamonds %>% \n",
    "    group_by(cut)\n",
    "\n",
    "diamonds %>% \n",
    "    group_by(cut) %>% \n",
    "    summarize(avg_price = mean(price))"
   ]
  },
  {
   "cell_type": "markdown",
   "metadata": {},
   "source": [
    "- To remove this grouping structure meta-data, one can pipe the resulting data frame into the `ungroup()` function"
   ]
  },
  {
   "cell_type": "code",
   "execution_count": null,
   "metadata": {},
   "outputs": [],
   "source": [
    "diamonds %>% \n",
    "    group_by(cut) %>% \n",
    "    ungroup()"
   ]
  },
  {
   "cell_type": "markdown",
   "metadata": {},
   "source": [
    "- Suppose we'd like to count how many flights departed each of the three airports in New York City:"
   ]
  },
  {
   "cell_type": "code",
   "execution_count": null,
   "metadata": {},
   "outputs": [],
   "source": [
    "(by_origin <- flights %>% \n",
    "    group_by(origin) %>% \n",
    "    summarize(count = n()))"
   ]
  },
  {
   "cell_type": "markdown",
   "metadata": {},
   "source": [
    "- Newark (`\"EWR\"`) had the most flights departing in 2013 followed by `\"JFK\"` and lastly by LaGuardia (`\"LGA\"`)\n",
    "- `sum()` returns the sum of a numerical variable, `n()` returns a count of the number of rows/observations \n",
    "\n",
    "### Grouping by more than one variable\n",
    "\n",
    "- Say one want to know the number of flights leaving each of the three New York City airports *for each month*\n",
    "  - Group by a second variable `month` using `group_by(origin, month)`"
   ]
  },
  {
   "cell_type": "code",
   "execution_count": null,
   "metadata": {},
   "outputs": [],
   "source": [
    "(by_origin_monthly <- flights %>% \n",
    "    group_by(origin, month) %>% \n",
    "    summarize(count = n()))"
   ]
  },
  {
   "cell_type": "markdown",
   "metadata": {},
   "source": [
    "- Why `group_by(origin, month)` and not `group_by(origin)` and then `group_by(month)`? \n",
    "  - Investigation"
   ]
  },
  {
   "cell_type": "code",
   "execution_count": null,
   "metadata": {},
   "outputs": [],
   "source": [
    "(by_origin_monthly_incorrect <- flights %>% \n",
    "    group_by(origin) %>% \n",
    "    group_by(month) %>% \n",
    "    summarize(count = n()))"
   ]
  },
  {
   "cell_type": "markdown",
   "metadata": {},
   "source": [
    "- `group_by(month)` overwrote the grouping structure meta-data of the earlier `group_by(origin)`\n",
    "  - In the end only grouping by `month`\n",
    "  - When `group_by()` two or more variables, one should include all the variables at the same time seperated by commas\n",
    "\n",
    "### Learning Check\n",
    "\n",
    "We looked at plots of temperatures by months in NYC (`weather` in `nycflights13`). What does the standard deviation column in the `summary_monthly_temp` data frame tell us about temperatures in NYC throughout the year?\n",
    "\n",
    "**Solution**:"
   ]
  },
  {
   "cell_type": "code",
   "execution_count": null,
   "metadata": {},
   "outputs": [],
   "source": [
    "summary_temp_by_month <- weather %>%\n",
    "  group_by(month) %>%\n",
    "  summarize(mean = mean(temp, na.rm = TRUE),\n",
    "            std_dev = sd(temp, na.rm = TRUE))\n",
    "\n",
    "kable(summary_temp_by_month) %>%\n",
    "    kable_styling(font_size = 16)"
   ]
  },
  {
   "cell_type": "markdown",
   "metadata": {},
   "source": [
    "******\n",
    "\n",
    "The standard deviation is a quantification of **spread** and **variability**. We see that the period in November, December, and January has the most variation in weather, so you can expect very different temperatures on different days. What code would be required to get the mean and standard deviation temperature for each day in 2013 for NYC?\n",
    "\n",
    "**Solution**:"
   ]
  },
  {
   "cell_type": "code",
   "execution_count": null,
   "metadata": {},
   "outputs": [],
   "source": [
    "(summary_temp_by_day <- weather %>%\n",
    "    group_by(year, month, day) %>%\n",
    "    summarize(mean = mean(temp, na.rm = TRUE),\n",
    "              std_dev = sd(temp, na.rm = TRUE)))"
   ]
  },
  {
   "cell_type": "markdown",
   "metadata": {},
   "source": [
    "Note: `group_by(day)` is not enough, because `day` is a value between 1-31. We need to `group_by(year, month, day)` \n",
    "\n",
    "******\n",
    "\n",
    "Recreate `by_monthly_origin`, but instead of grouping via `group_by(origin, month)`, group variables in a different order `group_by(month, origin)`. What differs in the resulting dataset?\n",
    "\n",
    "**Solution**:"
   ]
  },
  {
   "cell_type": "code",
   "execution_count": null,
   "metadata": {},
   "outputs": [],
   "source": [
    "(by_monthly_origin <- flights %>%\n",
    "    group_by(month, origin) %>%\n",
    "    summarize(count = n()))"
   ]
  },
  {
   "cell_type": "markdown",
   "metadata": {},
   "source": [
    "In `by_monthly_origin` the `month` column is now first and the rows are sorted by `month` instead of origin. If you compare the values of `count` in `by_origin_monthly` and `by_monthly_origin` using the `View()` function, you'll see that the values are actually the same, just presented in a different order. \n",
    "\n",
    "******\n",
    "\n",
    "How could we identify how many flights left each of the three airports for each `carrier`?\n",
    "\n",
    "**Solution**: We could summarize the count from each airport using the `n()` function, which *counts rows*."
   ]
  },
  {
   "cell_type": "code",
   "execution_count": null,
   "metadata": {},
   "outputs": [],
   "source": [
    "(count_flights_by_airport <- flights %>%\n",
    "    group_by(origin, carrier) %>%\n",
    "    summarize(count = n()))"
   ]
  },
  {
   "cell_type": "markdown",
   "metadata": {},
   "source": [
    "All remarkably similar! Note: the `n()` function counts rows, whereas the `sum(VARIABLE_NAME)` function sums all values of a certain numerical variable `VARIABLE_NAME`.\n",
    "\n",
    "******\n",
    "\n",
    "How does the `filter` operation differ from a `group_by` followed by a `summarize`?\n",
    "\n",
    "**Solution**: \n",
    "\n",
    "* `filter` picks out rows from the original dataset without modifying them, whereas\n",
    "* `group_by %>% summarize` computes summaries of numerical variables, and hence reports new values.\n",
    "\n",
    "## `mutate`: create new variables based on existing ones\n",
    "\n",
    "![Diagram of `mutate()` columns](./fig/mutate.png)\n",
    "\n",
    "- Say you are more comfortable thinking of temperature in degrees Celsius instead of degrees Fahrenheit\n",
    "- The formula to convert temperatures from &deg;F to &deg;C is $$\\text{temp in C} = \\frac{\\text{temp in F} - 32}{1.8}$$\n",
    "- One can apply the formula to the `temp` variable using the `mutate()` function which takes `temp` and create new variable `temp_in_C`"
   ]
  },
  {
   "cell_type": "code",
   "execution_count": null,
   "metadata": {},
   "outputs": [],
   "source": [
    "weather <- weather %>% \n",
    "    mutate(temp_in_C = (temp - 32) / 1.8)"
   ]
  },
  {
   "cell_type": "markdown",
   "metadata": {},
   "source": [
    "- Compute monthly average temperatures in both &deg;F and &deg;C using `group_by()` and `summarize()`:"
   ]
  },
  {
   "cell_type": "code",
   "execution_count": null,
   "metadata": {},
   "outputs": [],
   "source": [
    "(summary_monthly_temp <- weather %>% \n",
    "    group_by(month) %>% \n",
    "    summarize(mean_temp_in_F = mean(temp, na.rm = TRUE), \n",
    "              mean_temp_in_C = mean(temp_in_C, na.rm = TRUE)))"
   ]
  },
  {
   "cell_type": "markdown",
   "metadata": {},
   "source": [
    "- Create a variable known in the airline industry as _gain_ by `mutate()`:"
   ]
  },
  {
   "cell_type": "code",
   "execution_count": null,
   "metadata": {},
   "outputs": [],
   "source": [
    "flights <- flights %>% \n",
    "    mutate(gain = dep_delay - arr_delay)"
   ]
  },
  {
   "cell_type": "markdown",
   "metadata": {},
   "source": [
    "- Take a look at only the `dep_delay`, `arr_delay`, and the resulting `gain` variables for the first 5 rows in our updated `flights` data frame in Table ."
   ]
  },
  {
   "cell_type": "code",
   "execution_count": null,
   "metadata": {},
   "outputs": [],
   "source": [
    "flights %>% \n",
    "    select(dep_delay, arr_delay, gain) %>% \n",
    "    slice(1:5) %>% \n",
    "    kable(caption = \"First five rows of departure/arrival delay and gain variables\") %>%\n",
    "    kable_styling(position = \"center\") %>%\n",
    "    as.character() %>%\n",
    "    display_html()"
   ]
  },
  {
   "cell_type": "markdown",
   "metadata": {},
   "source": [
    "- The flight in the first row departed 2 minutes late but arrived 11 minutes late\n",
    "  - Its \"gained time in the air\" is a loss of 9 minutes, hence its `gain` is 2 $-$ 11 $=$ -9 \n",
    "- The flight in the fourth row departed a minute early (`dep_delay` of -1) but arrived $18$ minutes early (`arr_delay` of -18)\n",
    "  - Its \"gained time in the air\" is -1 $-$ (-18) $=$ -1 $+$ 18 $=$ 17 minutes, hence its `gain` is +17.\n",
    "- Look at some summary statistics of the `gain` variable by considering multiple summary functions at once in the same `summarize()` code"
   ]
  },
  {
   "cell_type": "code",
   "execution_count": null,
   "metadata": {},
   "outputs": [],
   "source": [
    "(gain_summary <- flights %>% \n",
    "    summarize(min = min(gain, na.rm = TRUE),\n",
    "              q1 = quantile(gain, 0.25, na.rm = TRUE),\n",
    "              median = quantile(gain, 0.5, na.rm = TRUE),\n",
    "              q3 = quantile(gain, 0.75, na.rm = TRUE),\n",
    "              max = max(gain, na.rm = TRUE),\n",
    "              mean = mean(gain, na.rm = TRUE),\n",
    "              sd = sd(gain, na.rm = TRUE),\n",
    "              missing = sum(is.na(gain))))"
   ]
  },
  {
   "cell_type": "markdown",
   "metadata": {},
   "source": [
    "- One can create multiple new variables at once in the same `mutate()` code"
   ]
  },
  {
   "cell_type": "code",
   "execution_count": null,
   "metadata": {},
   "outputs": [],
   "source": [
    "flights <- flights %>% \n",
    "    mutate(gain = dep_delay - arr_delay,\n",
    "           hours = air_time / 60,\n",
    "           gain_per_hour = gain / hours)"
   ]
  },
  {
   "cell_type": "markdown",
   "metadata": {},
   "source": [
    "### Learning Check\n",
    "\n",
    "Could we create the `dep_delay` and `arr_delay` columns by simply subtracting `dep_time` from `sched_dep_time` and similarly for arrivals?  Try the code out and explain any differences between the result and what actually appears in `flights`.\n",
    "\n",
    "**Solution**: No because you can't do direct arithmetic on times. The difference in time between 12:03 and 11:59 is 4 minutes, but 1203$-$ 1159 $=$ 44\n",
    "\n",
    "## `arrange` and sort rows \n",
    "\n",
    "- Suppose we are interested in determining the most frequent destination airports for all domestic flights departing from New York City in 2013"
   ]
  },
  {
   "cell_type": "code",
   "execution_count": null,
   "metadata": {},
   "outputs": [],
   "source": [
    "(freq_dest <- flights %>% \n",
    "    group_by(dest) %>% \n",
    "    summarize(num_flights = n()))"
   ]
  },
  {
   "cell_type": "markdown",
   "metadata": {},
   "source": [
    "- Observe that by default the rows of the resulting `freq_dest` data frame are sorted in alphabetical order of `dest`ination\n",
    "  - Say we would like to see the same data but sorted from the most to the least number of flights (`num_flights`) instead:"
   ]
  },
  {
   "cell_type": "code",
   "execution_count": null,
   "metadata": {},
   "outputs": [],
   "source": [
    "(freq_dest %>% \n",
    "    arrange(num_flights))"
   ]
  },
  {
   "cell_type": "markdown",
   "metadata": {},
   "source": [
    "- `arrange()` always returns rows sorted in ascending order by default \n",
    "  - To switch the ordering to be in \"descending\" order, one use the `desc()` function"
   ]
  },
  {
   "cell_type": "code",
   "execution_count": null,
   "metadata": {},
   "outputs": [],
   "source": [
    "(freq_dest %>% \n",
    "    arrange(desc(num_flights)))"
   ]
  },
  {
   "cell_type": "markdown",
   "metadata": {},
   "source": [
    "## `join` data frames\n",
    "\n",
    "- In `flights` data frame, the variable `carrier` lists the carrier code for the different flights\n",
    "  - This information is provided in a separate data frame `airlines`"
   ]
  },
  {
   "cell_type": "code",
   "execution_count": null,
   "metadata": {},
   "outputs": [],
   "source": [
    "View(airlines)"
   ]
  },
  {
   "cell_type": "markdown",
   "metadata": {},
   "source": [
    "- In `airlines`, `carrier` is the carrier code, while `name` is the full name of the airline company \n",
    "- Can one have all this information in a single data frame instead of two separate data frames?\n",
    "  - One can do this by \"joining\" `flights` and `airlines` data frames\n",
    "  - The values in the variable `carrier` in the `flights` data frame match the values in the variable `carrier` in the `airlines` data frame \n",
    "\n",
    "![`nycflights13` internal relations](./fig/relational-nycflights.png)\n",
    "\n",
    "\n",
    "### Matching \"key\" variable names\n",
    "\n",
    "- In `flights` and `airlines` data frames, the key variable to join/merge/match the rows by has the same name: `carrier`\n",
    "- Use the `inner_join()` function to join the two data frames, where the rows will be matched by the variable `carrier`, and then compare the resulting data frames"
   ]
  },
  {
   "cell_type": "code",
   "execution_count": null,
   "metadata": {},
   "outputs": [],
   "source": [
    "flights_joined <- flights %>% \n",
    "    inner_join(airlines, by = \"carrier\")\n",
    "View(flights)\n",
    "View(flights_joined)"
   ]
  },
  {
   "cell_type": "markdown",
   "metadata": {},
   "source": [
    "- A visual representation of the `inner_join()` is shown \n",
    "\n",
    "![Inner Join.](./fig/join-inner.png)\n",
    "\n",
    "- Other types of joins such as `left_join()`, `right_join()`, `outer_join()`, and `anti_join()` are available, but the `inner_join()` will solve the majority of problems\n",
    "\n",
    "### Different \"key\" variable names\n",
    "\n",
    "- The `airports` data frame contains the airport codes for each airport:"
   ]
  },
  {
   "cell_type": "code",
   "execution_count": null,
   "metadata": {},
   "outputs": [],
   "source": [
    "View(airports)"
   ]
  },
  {
   "cell_type": "markdown",
   "metadata": {},
   "source": [
    "- However, in `airports` and `flights` data frames, the airport codes are in variables that have different names \n",
    "  - In `airports` the airport code is in `faa`\n",
    "  - In `flights` the airport codes are in `origin` and `dest`\n",
    "- In order to join `airports` and `flights` by airport code, the `inner_join()` operation should use `by = c(\"dest\" = \"faa\")` when the key variable has different names"
   ]
  },
  {
   "cell_type": "code",
   "execution_count": null,
   "metadata": {},
   "outputs": [],
   "source": [
    "flights_with_airport_names <- flights %>% \n",
    "    inner_join(airports, by = c(\"dest\" = \"faa\"))\n",
    "View(flights_with_airport_names)"
   ]
  },
  {
   "cell_type": "markdown",
   "metadata": {},
   "source": [
    "- Compute the number of flights from NYC to each destination, but also includes information about each destination airport"
   ]
  },
  {
   "cell_type": "code",
   "execution_count": null,
   "metadata": {},
   "outputs": [],
   "source": [
    "(named_dests <- flights %>%\n",
    "    group_by(dest) %>%\n",
    "    summarize(num_flights = n()) %>%\n",
    "    arrange(desc(num_flights)) %>%\n",
    "    inner_join(airports, by = c(\"dest\" = \"faa\")) %>%\n",
    "    rename(airport_name = name))"
   ]
  },
  {
   "cell_type": "markdown",
   "metadata": {},
   "source": [
    "### Multiple \"key\" variables\n",
    "\n",
    "- In order to join `flights` and `weather`, more than one key variable `year`, `month`, `day`, `hour`, and `origin` are needed\n",
    "  - The combination of these 5 variables act to uniquely identify each observational unit in the `weather` data frame\n",
    "- Specifying a *vector* of key variables to join by using `c()`"
   ]
  },
  {
   "cell_type": "code",
   "execution_count": null,
   "metadata": {},
   "outputs": [],
   "source": [
    "flights_weather_joined <- flights %>%\n",
    "    inner_join(weather, by = c(\"year\", \"month\", \"day\", \"hour\", \"origin\"))\n",
    "View(flights_weather_joined)"
   ]
  },
  {
   "cell_type": "markdown",
   "metadata": {},
   "source": [
    "### Learning Check\n",
    "\n",
    "When joining `flights` and `weather` (or, in other words, matching the hourly weather values with each flight), why do we need to join by all of `year`, `month`, `day`, `hour`, and `origin`, and not just `hour`?\n",
    "\n",
    "**Solution**: Because `hour` is simply a value between 0 and 23; to identify a *specific* hour, we need to know which year, month, day and at which airport.\n",
    "\n",
    "### Normal forms\n",
    "\n",
    "- The data frames included in the `nycflights13` package are in a form that minimizes redundancy of data\n",
    "  - The `flights` data frame only saves the `carrier` code of the airline company; it does not include the actual name of the airline\n",
    "  - The first row of `flights` has `carrier` equal to `UA`, but it does not include the airline name of \"United Air Lines Inc.\" \n",
    "- The names of the airline companies are included in the `name` variable of the `airlines` data frame \n",
    "  - To have the airline company name included in `flights`, join `flights` and `airlines`:"
   ]
  },
  {
   "cell_type": "code",
   "execution_count": null,
   "metadata": {},
   "outputs": [],
   "source": [
    "joined_flights <- flights %>% \n",
    "    inner_join(airlines, by = \"carrier\")\n",
    "View(joined_flights)"
   ]
  },
  {
   "cell_type": "markdown",
   "metadata": {},
   "source": [
    "- *Normal forms* of data: The *key* variable(s) that the joins based on are *identification variables*, no redundancies\n",
    "- Both `dplyr` and [SQL](https://en.wikipedia.org/wiki/SQL) use such *normal forms*, and they are similar\n",
    "\n",
    "## Other verbs \n",
    "\n",
    "### `select` a subset of columns (variables)\n",
    "\n",
    "![Diagram of select() columns.](./fig/select.png)\n",
    "\n",
    "- Identify the names of variables in `flights` data frame:"
   ]
  },
  {
   "cell_type": "code",
   "execution_count": null,
   "metadata": {},
   "outputs": [],
   "source": [
    "glimpse(flights)"
   ]
  },
  {
   "cell_type": "markdown",
   "metadata": {},
   "source": [
    "- If one only need the `carrier` and `flight` variables, use `select()` to pick up these two:"
   ]
  },
  {
   "cell_type": "code",
   "execution_count": null,
   "metadata": {},
   "outputs": [],
   "source": [
    "flights %>% \n",
    "    select(carrier, flight)"
   ]
  },
  {
   "cell_type": "markdown",
   "metadata": {},
   "source": [
    "- `select()` makes it easier to explore large datasets\n",
    "  - limit the scope to only those variables we care most about\n",
    "  - make the dataset viewing more digestible\n",
    "- `select()` also drop or de-select certain variables\n",
    "  - deselect using the `-` sign"
   ]
  },
  {
   "cell_type": "code",
   "execution_count": null,
   "metadata": {},
   "outputs": [],
   "source": [
    "(flights_no_year <- flights %>% select(-year))"
   ]
  },
  {
   "cell_type": "markdown",
   "metadata": {},
   "source": [
    "- Another way of selecting columns/variables is by specifying a range of columns"
   ]
  },
  {
   "cell_type": "code",
   "execution_count": null,
   "metadata": {},
   "outputs": [],
   "source": [
    "(flight_arr_times <- flights %>% \n",
    "\tselect(month:day, arr_time:sched_arr_time))"
   ]
  },
  {
   "cell_type": "markdown",
   "metadata": {},
   "source": [
    "- The above will `select()` all columns between `month` and `day`, as well as between `arr_time` and `sched_arr_time`, and drop the rest \n",
    "- `select()` can also be used to reorder columns when used with the `everything()` helper function\n",
    "  - For example, suppose we want `hour`, `minute`, and `time_hour` to appear immediately after `year`, `month`, and `day` while not discarding the rest of the variables: `everything()` will pick up all remainings"
   ]
  },
  {
   "cell_type": "code",
   "execution_count": null,
   "metadata": {},
   "outputs": [],
   "source": [
    "flights_reorder <- flights %>% \n",
    "    select(year, month, day, hour, minute, time_hour, everything())\n",
    "glimpse(flights_reorder)"
   ]
  },
  {
   "cell_type": "markdown",
   "metadata": {},
   "source": [
    "- The helper functions `starts_with()`, `ends_with()`, and `contains()` can be used to select variables/columns that match conditions"
   ]
  },
  {
   "cell_type": "code",
   "execution_count": null,
   "metadata": {},
   "outputs": [],
   "source": [
    "flights %>% select(starts_with(\"a\"))\n",
    "flights %>% select(ends_with(\"delay\"))\n",
    "flights %>% select(contains(\"time\"))"
   ]
  },
  {
   "cell_type": "markdown",
   "metadata": {},
   "source": [
    "### `rename` variables/columns to have new names\n",
    "\n",
    "- Suppose we want to only focus on `dep_time` and `arr_time` and change `dep_time` and `arr_time` to be `departure_time` and `arrival_time` instead in the `flights_time` data frame:"
   ]
  },
  {
   "cell_type": "code",
   "execution_count": null,
   "metadata": {},
   "outputs": [],
   "source": [
    "flights_time_new <- flights %>% \n",
    "    select(dep_time, arr_time) %>% \n",
    "    rename(departure_time = dep_time, arrival_time = arr_time)\n",
    "glimpse(flights_time_new)"
   ]
  },
  {
   "cell_type": "markdown",
   "metadata": {},
   "source": [
    "- `departure_time = dep_time` renames the `dep_time` variable to have the new name `departure_time`\n",
    "  - assign a new variable `departure_time` to have the same values as `dep_time` and then *delete* the variable `dep_time`\n",
    "\n",
    "### `top_n` values of a variable\n",
    "\n",
    "- Using `top_n` with `n = 10` and `wt = num_flights` to indicate that we want the rows in `named_dests` corresponding to the top 10 values of `num_flights`"
   ]
  },
  {
   "cell_type": "code",
   "execution_count": null,
   "metadata": {},
   "outputs": [],
   "source": [
    "(named_dests %>% \n",
    "    top_n(n = 10, wt = num_flights))"
   ]
  },
  {
   "cell_type": "markdown",
   "metadata": {},
   "source": [
    "- `arrange()` these results in descending order of `num_flights`"
   ]
  },
  {
   "cell_type": "code",
   "execution_count": null,
   "metadata": {},
   "outputs": [],
   "source": [
    "named_dests  %>% \n",
    "    top_n(n = 10, wt = num_flights) %>% \n",
    "    arrange(desc(num_flights))"
   ]
  },
  {
   "cell_type": "markdown",
   "metadata": {},
   "source": [
    "### Learning Check\n",
    "\n",
    "What are some ways to select all three of the `dest`, `air_time`, and `distance` variables from `flights`?  Give the code showing how to do this in at least three different ways.\n",
    "\n",
    "**Solution**:"
   ]
  },
  {
   "cell_type": "code",
   "execution_count": null,
   "metadata": {},
   "outputs": [],
   "source": [
    "# The regular way:\n",
    "flights %>%\n",
    "  select(dest, air_time, distance)\n",
    "\n",
    "# Since they are sequential columns in the dataset\n",
    "flights %>%\n",
    "  select(dest:distance)\n",
    "\n",
    "# Not as effective, by removing everything else\n",
    "flights %>%\n",
    "  select(\n",
    "    -year, -month, -day, -dep_time, -sched_dep_time, -dep_delay, -arr_time,\n",
    "    -sched_arr_time, -arr_delay, -carrier, -flight, -tailnum, -origin,\n",
    "    -hour, -minute, -time_hour\n",
    "  )"
   ]
  },
  {
   "cell_type": "markdown",
   "metadata": {},
   "source": [
    "******\n",
    "\n",
    "How could one use `starts_with`, `ends_with`, and `contains` to select columns from the `flights` data frame?  Provide three different examples in total: one for `starts_with`, one for `ends_with`, and one for `contains`.\n",
    "\n",
    "**Solution**:"
   ]
  },
  {
   "cell_type": "code",
   "execution_count": null,
   "metadata": {},
   "outputs": [],
   "source": [
    "# Anything that starts with \"d\"\n",
    "flights %>%\n",
    "  select(starts_with(\"d\"))\n",
    "# Anything related to delays:\n",
    "flights %>%\n",
    "  select(ends_with(\"delay\"))\n",
    "# Anything related to departures:\n",
    "flights %>%\n",
    "  select(contains(\"dep\"))"
   ]
  },
  {
   "cell_type": "markdown",
   "metadata": {},
   "source": [
    "******\n",
    "\n",
    "Why might we want to use the `select` function on a data frame?\n",
    "\n",
    "**Solution**: To narrow down the data frame, to make it easier to look at. Using `View()` for example.\n",
    "\n",
    "******\n",
    "\n",
    "Create a new data frame that shows the top 5 airports with the largest arrival delays from NYC in 2013.\n",
    "\n",
    "**Solution**:"
   ]
  },
  {
   "cell_type": "code",
   "execution_count": null,
   "metadata": {},
   "outputs": [],
   "source": [
    "(top_five <- flights %>%\n",
    "    group_by(dest) %>%\n",
    "    summarize(avg_delay = mean(arr_delay, na.rm = TRUE)) %>%\n",
    "    arrange(desc(avg_delay)) %>%\n",
    "    top_n(n = 5))"
   ]
  },
  {
   "cell_type": "markdown",
   "metadata": {},
   "source": [
    "## Conclusion\n",
    "\n",
    "### Summary table"
   ]
  },
  {
   "cell_type": "code",
   "execution_count": null,
   "metadata": {},
   "outputs": [],
   "source": [
    "# The following Google Doc is published to CSV and loaded using read_csv():\n",
    "# https://docs.google.com/spreadsheets/d/1nRkXfYMQiTj79c08xQPY0zkoJSpde3NC1w6DRhsWCss/edit#gid=0\n",
    "\n",
    "ch4_scenarios <- \"https://docs.google.com/spreadsheets/d/e/2PACX-1vRgwl1lugQA6zxzfB6_0hM5vBjXkU7cbUVYYXLcWeaRJ9HmvNXyCjzJCgiGW8HCe1kvjLCGYHf-BvYL/pub?gid=0&single=true&output=csv\" %>%\n",
    "    read_csv(na = \"\") #%>%\n",
    "    #select(-X1)\n",
    "\n",
    "ch4_scenarios %>%\n",
    "    kable(caption = \"Summary of data wrangling verbs\",\n",
    "          booktabs = TRUE, format = \"html\") %>%\n",
    "    as.character() %>%\n",
    "    display_html()"
   ]
  },
  {
   "cell_type": "markdown",
   "metadata": {},
   "source": [
    "### Cheatsheet \n",
    "\n",
    "- Check out RStudio's \"Data Transformation with dplyr\" cheatsheet\n",
    "  - Access the `dplyr` cheatsheet by going to the RStudio Menu Bar -> Help -> Cheatsheets -> \"Data Transformation with dplyr.\"\n",
    "\n",
    "### Learning Check\n",
    "\n",
    "An airline industry measure of a passenger airline's capacity is the [available seat miles](https://en.wikipedia.org/wiki/Available_seat_miles), which is equal to the number of seats available multiplied by the number of miles or kilometers flown summed over all flights. \n",
    "\n",
    "For example, let's consider the scenario in Figure below. Since the airplane has 4 seats and it travels 200 miles, the available seat miles are 4 $\\times$ 200 $=$ 800.\n",
    "\n",
    "![Example of available seat miles for one flight.](./fig/asm.png)\n",
    "\n",
    "Extending this idea, let's say an airline had 2 flights using a plane with 10 seats that flew 500 miles and 3 flights using a plane with 20 seats that flew 1000 miles, the available seat miles would be 2 $\\times$ 10 $\\times$ 500 $+$ 3 $\\times$ 20 $\\times$ 1000 $=$ 70,000 seat miles. \n",
    "\n",
    "Using the datasets included in the `nycflights13` package, compute the available seat miles for each airline sorted in descending order. After completing all the necessary data wrangling steps, the resulting data frame should have 16 rows (one for each airline) and 2 columns (airline name and available seat miles). Here are some hints:\n",
    "\n",
    "1. **Crucial**: Unless you are very confident in what you are doing, it is worthwhile to not starting coding right away, but rather first sketch out on paper all the necessary data wrangling steps not using exact code, but rather high-level *pseudocode* that is informal yet detailed enough to articulate what you are doing. This way you won't confuse *what* you are trying to do (the algorithm) with *how* you are going to do it (writing `dplyr` code). \n",
    "1. Take a close look at all the datasets using the `View()` function: `flights`, `weather`, `planes`, `airports`, and `airlines` to identify which variables are necessary to compute available seat miles.\n",
    "\n",
    "**Solution**: Let's first display the entire solution."
   ]
  },
  {
   "cell_type": "code",
   "execution_count": null,
   "metadata": {},
   "outputs": [],
   "source": [
    "flights %>%\n",
    "    inner_join(planes, by = \"tailnum\") %>%\n",
    "    select(carrier, seats, distance) %>%\n",
    "    mutate(ASM = seats * distance) %>%\n",
    "    group_by(carrier) %>%\n",
    "    summarize(ASM = sum(ASM, na.rm = TRUE)) %>%\n",
    "    arrange(desc(ASM))"
   ]
  },
  {
   "cell_type": "markdown",
   "metadata": {},
   "source": [
    "Let's now break this down step-by-step. To compute the available seat miles for a given flight, we need the `distance` variable from the `flights` data frame and the `seats` variable from the `planes` data frame, necessitating a join by the key variable `tailnum`. To keep the resulting data frame easy to view, we'll `select()` only these two variables and `carrier`:"
   ]
  },
  {
   "cell_type": "code",
   "execution_count": null,
   "metadata": {},
   "outputs": [],
   "source": [
    "flights %>%\n",
    "    inner_join(planes, by = \"tailnum\") %>%\n",
    "    select(carrier, seats, distance)"
   ]
  },
  {
   "cell_type": "markdown",
   "metadata": {},
   "source": [
    "Now for each flight we can compute the available seat miles `ASM` by multiplying the number of seats by the distance via a `mutate()`:"
   ]
  },
  {
   "cell_type": "code",
   "execution_count": null,
   "metadata": {},
   "outputs": [],
   "source": [
    "flights %>%\n",
    "    inner_join(planes, by = \"tailnum\") %>%\n",
    "    select(carrier, seats, distance) %>%\n",
    "    # Added:\n",
    "    mutate(ASM = seats * distance)"
   ]
  },
  {
   "cell_type": "markdown",
   "metadata": {},
   "source": [
    "Next we want to sum the `ASM` for each carrier. We achieve this by first grouping by `carrier` and then summarizing using the `sum()` function:"
   ]
  },
  {
   "cell_type": "code",
   "execution_count": null,
   "metadata": {},
   "outputs": [],
   "source": [
    "flights %>%\n",
    "    inner_join(planes, by = \"tailnum\") %>%\n",
    "    select(carrier, seats, distance) %>%\n",
    "    mutate(ASM = seats * distance) %>%\n",
    "    # Added:\n",
    "    group_by(carrier) %>%\n",
    "    summarize(ASM = sum(ASM))"
   ]
  },
  {
   "cell_type": "markdown",
   "metadata": {},
   "source": [
    "However, because for certain carriers certain flights have missing `NA` values, the resulting table also returns `NA`'s. We can eliminate these by adding a `na.rm = TRUE` argument to `sum()`, telling R that we want to remove the `NA`'s in the sum:"
   ]
  },
  {
   "cell_type": "code",
   "execution_count": null,
   "metadata": {},
   "outputs": [],
   "source": [
    "flights %>%\n",
    "    inner_join(planes, by = \"tailnum\") %>%\n",
    "    select(carrier, seats, distance) %>%\n",
    "    mutate(ASM = seats * distance) %>%\n",
    "    group_by(carrier) %>%\n",
    "    # Modified:\n",
    "    summarize(ASM = sum(ASM, na.rm = TRUE))"
   ]
  },
  {
   "cell_type": "markdown",
   "metadata": {},
   "source": [
    "Finally, we `arrange()` the data in `desc()`ending order of `ASM`."
   ]
  },
  {
   "cell_type": "code",
   "execution_count": null,
   "metadata": {},
   "outputs": [],
   "source": [
    "flights %>%\n",
    "    inner_join(planes, by = \"tailnum\") %>%\n",
    "    select(carrier, seats, distance) %>%\n",
    "    mutate(ASM = seats * distance) %>%\n",
    "    group_by(carrier) %>%\n",
    "    summarize(ASM = sum(ASM, na.rm = TRUE)) %>%\n",
    "    # Added:\n",
    "    arrange(desc(ASM))"
   ]
  },
  {
   "cell_type": "markdown",
   "metadata": {},
   "source": [
    "While the above data frame is correct, the IATA `carrier` code is not always useful. For example, what carrier is `WN`? We can address this by joining with the `airlines` dataset using `carrier` is the key variable. While this step is not absolutely required, it goes a long way to making the table easier to make sense of. It is important to be empathetic with the ultimate consumers of your presented data!"
   ]
  },
  {
   "cell_type": "code",
   "execution_count": null,
   "metadata": {},
   "outputs": [],
   "source": [
    "flights %>%\n",
    "    inner_join(planes, by = \"tailnum\") %>%\n",
    "    select(carrier, seats, distance) %>%\n",
    "    mutate(ASM = seats * distance) %>%\n",
    "    group_by(carrier) %>%\n",
    "    summarize(ASM = sum(ASM, na.rm = TRUE)) %>%\n",
    "    arrange(desc(ASM)) %>%\n",
    "    # Added:\n",
    "    inner_join(airlines, by = \"carrier\")"
   ]
  }
 ],
 "metadata": {
  "anaconda-cloud": "",
  "kernelspec": {
   "display_name": "R",
   "language": "R",
   "name": "ir"
  },
  "language_info": {
   "codemirror_mode": "r",
   "file_extension": ".r",
   "mimetype": "text/x-r-source",
   "name": "R",
   "pygments_lexer": "r",
   "version": "4.2.1"
  }
 },
 "nbformat": 4,
 "nbformat_minor": 1
}
