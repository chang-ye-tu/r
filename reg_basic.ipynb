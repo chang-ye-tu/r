{
    "cells": [
        {
            "cell_type": "markdown",
            "metadata": {},
            "source": [
                "# Basic Regression\n",
                "\n",
                "## Data Modeling\n",
                "\n",
                "### The Fundamental Premise of Data Modeling\n",
                "\n",
                "* An *outcome variable* $y$, a.k.a. *dependent variable* or response variable\n",
                "* An *explanatory/predictor variable* $x$, a.k.a. an *independent variable* or *covariate*\n",
                "* $y$ \"as a function\" of the explanatory/predictor variable $x$\n",
                "   \n",
                "### Purposes of Data Modeling\n",
                "\n",
                "1. **Modeling for Explanation**\n",
                "  - Explicitly describe and quantify the relationship between the outcome variable $y$ and a set of explanatory variables $x$\n",
                "  - Determine the significance of any relationships\n",
                "  - Have measures summarizing the relationships\n",
                "  - Possibly identify any *causal* relationships between the variables\n",
                "1. **Modeling for Prediction**\n",
                "  - Predict an outcome variable $y$ based on the information contained in a set of predictor variables $x$ \n",
                "  - One doesn't care so much about understanding how all the variables relate and interact with one another\n",
                "\n",
                "### Example of Explanation and Prediction Modeling\n",
                "\n",
                "- An outcome variable $y$ of whether patients develop lung cancer \n",
                "- A set of risk factors $x$: smoking habits, age, socioeconomic status\n",
                "- Modeling for explanation: describing and quantifying the effects of the different risk factors\n",
                "  - Possibly to design an intervention to reduce lung cancer incidence in a population, such as targeting smokers of a specific age group with advertising for smoking cessation programs\n",
                "- Modeling for prediction: make good predictions of which people will contract lung cancer\n",
                "\n",
                "### What we focus on \n",
                "\n",
                "- Modeling for explanation \n",
                "- Linear regression: the relationship between $y$ and $x$ is assumed to be linear\n",
                "\n",
                "### Needed packages"
            ]
        },
        {
            "cell_type": "code",
            "execution_count": null,
            "metadata": {},
            "outputs": [],
            "source": [
                "library(tidyverse)\n",
                "library(moderndive)\n",
                "library(skimr)\n",
                "library(gapminder)\n",
                "# Packages needed internally \n",
                "library(patchwork)\n",
                "library(kableExtra)\n",
                "library(knitr)\n",
                "library(IRdisplay)\n",
                "library(mvtnorm)\n",
                "library(broom)"
            ]
        },
        {
            "cell_type": "markdown",
            "metadata": {},
            "source": [
                "## One numerical explanatory variable\n",
                "\n",
                "### Example of instructor evaluation score\n",
                "\n",
                "- What factors explain differences in instructor teaching evaluation scores?\n",
                "  - Researchers at UT Austin tried to answer the question\n",
                "- Here we investigate the differences in instructor teaching scores as a function of the instructor's \"beauty\" score\n",
                "  - ... Instructors with higher \"beauty\" scores also have higher teaching evaluations? \n",
                "  - ... Instructors with higher \"beauty\" scores tend to have lower teaching evaluations? \n",
                "  - ... There is no relationship between \"beauty\" score and teaching evaluations? \n",
                "- Modeling the relationship between teaching scores and \"beauty\" scores using *simple linear regression*\n",
                "  - A numerical outcome variable $y$ (the instructor's teaching score) and\n",
                "  - A single numerical explanatory variable $x$ (the instructor's \"beauty\" score)\n",
                "\n",
                "### Exploratory data analysis (EDA) \n",
                "\n",
                "- Looking at the raw data values\n",
                "- Computing summary statistics\n",
                "- Creating data visualizations\n",
                "   \n",
                "#### Looking at the raw data values"
            ]
        },
        {
            "cell_type": "code",
            "execution_count": null,
            "metadata": {},
            "outputs": [],
            "source": [
                "evals_bty <- evals %>%\n",
                "  select(ID, score, bty_avg, age)\n",
                "glimpse(evals_bty)"
            ]
        },
        {
            "cell_type": "markdown",
            "metadata": {},
            "source": [
                "- The same instructor appear more than once in the data (multiple courses in a year)\n",
                "- `ID`: an identification variable\n",
                "- `score`: a numerical variable of the course instructor's average teaching score\n",
                "  - 1 are lowest and 5 are highest\n",
                "  - This is the outcome variable $y$ of interest\n",
                "- `bty_avg`: a numerical variable of the course instructor's average \"beauty\" score, where the average is computed from a separate panel of six students\n",
                "  - \"Beauty\" scores of 1 are lowest and 10 are highest\n",
                "  - This is the explanatory variable $x$ of interest\n",
                "- `age`: a numerical variable of the course instructor's age"
            ]
        },
        {
            "cell_type": "code",
            "execution_count": null,
            "metadata": {},
            "outputs": [],
            "source": [
                "evals_bty %>%\n",
                "    sample_n(size = 5) %>%\n",
                "    kable(digits = 3,\n",
                "          caption = \"A random sample of 5 out of the 463 courses at UT Austin\",\n",
                "          booktabs = TRUE,\n",
                "          linesep = \"\") %>%\n",
                "    kable_styling(font_size = 16) %>% as.character %>% display_html"
            ]
        },
        {
            "cell_type": "markdown",
            "metadata": {},
            "source": "#### Computing summary statistics"
        },
        {
            "cell_type": "code",
            "execution_count": null,
            "metadata": {},
            "outputs": [],
            "source": [
                "evals_bty %>%\n",
                "  summarize(mean_bty_avg = mean(bty_avg),\n",
                "            mean_score = mean(score),\n",
                "            median_bty_avg = median(bty_avg),\n",
                "            median_score = median(score))"
            ]
        },
        {
            "cell_type": "markdown",
            "metadata": {},
            "source": "- A better way: using `skim()`"
        },
        {
            "cell_type": "code",
            "execution_count": null,
            "metadata": {},
            "outputs": [],
            "source": "evals_bty %>% select(score, bty_avg) %>% skim()"
        },
        {
            "cell_type": "markdown",
            "metadata": {},
            "source": [
                "- `missing`: the number of missing values\n",
                "- `complete`: the number of non-missing or complete values\n",
                "- `n`: the total number of values\n",
                "- `mean`: the average\n",
                "- `sd`: the standard deviation\n",
                "- `p0`: the 0th percentile: the value at which 0% of observations are smaller than it (the *minimum* value)\n",
                "- `p25`: the 25th percentile: the value at which 25% of observations are smaller than it (the *1st quartile*)\n",
                "- `p50`: the 50th percentile: the value at which 50% of observations are smaller than it (the *2nd* quartile and more commonly called the *median*)\n",
                "- `p75`: the 75th percentile: the value at which 75% of observations are smaller than it (the *3rd quartile*)\n",
                "- `p100`: the 100th percentile: the value at which 100% of observations are smaller than it (the *maximum* value)\n",
                "\n",
                "##### Correlation coefficient"
            ]
        },
        {
            "cell_type": "code",
            "execution_count": null,
            "metadata": {},
            "outputs": [],
            "source": [
                "correlation <- c(-0.9999, -0.9, -0.75, -0.3, 0, 0.3, 0.75, 0.9, 0.9999)\n",
                "n_sim <- 100\n",
                "values <- NULL\n",
                "for (i in seq_along(correlation)) {\n",
                "    rho <- correlation[i]\n",
                "    sigma <- matrix(c(5, rho * sqrt(50), rho * sqrt(50), 10), 2, 2)\n",
                "    sim <- rmvnorm(n = n_sim,\n",
                "                   mean = c(20, 40),\n",
                "                   sigma = sigma) %>%\n",
                "    as.data.frame() %>%\n",
                "    as_tibble() %>%\n",
                "    mutate(correlation = round(rho, 2))\n",
                "    values <- bind_rows(values, sim)\n",
                "}\n",
                "\n",
                "(corr_plot <- ggplot(data = values, mapping = aes(V1, V2)) +\n",
                "    geom_point() +\n",
                "    facet_wrap(~correlation, ncol = 3) +\n",
                "    labs(x = \"x\", y = \"y\") +\n",
                "    theme(axis.text.x = element_blank(),\n",
                "          axis.text.y = element_blank(),\n",
                "          axis.ticks = element_blank()))"
            ]
        },
        {
            "cell_type": "markdown",
            "metadata": {},
            "source": [
                "- Using the `get_correlation()` in `moderndive`\n",
                "  - Put the name of the outcome variable on the left-hand side of the `~` \"tilde\" sign, while putting the name of the explanatory variable on the right-hand side: standard R's *formula notation*"
            ]
        },
        {
            "cell_type": "code",
            "execution_count": null,
            "metadata": {},
            "outputs": [],
            "source": [
                "evals_bty %>% \n",
                "    get_correlation(formula = score ~ bty_avg)"
            ]
        },
        {
            "cell_type": "markdown",
            "metadata": {},
            "source": "- An alternative way to compute correlation:"
        },
        {
            "cell_type": "code",
            "execution_count": null,
            "metadata": {},
            "outputs": [],
            "source": [
                "evals_bty %>% \n",
                "    summarize(correlation = cor(score, bty_avg))\n",
                "cor_bty <- evals_bty %>%\n",
                "    summarize(correlation = cor(score, bty_avg)) %>%\n",
                "    round(3) %>%\n",
                "    pull()"
            ]
        },
        {
            "cell_type": "markdown",
            "metadata": {},
            "source": [
                "#### Interesting\n",
                "\n",
                "- [Guess the Correlation](http://guessthecorrelation.com)\n",
                "\n",
                "#### Creating data visualizations"
            ]
        },
        {
            "cell_type": "code",
            "execution_count": null,
            "metadata": {},
            "outputs": [],
            "source": [
                "# Define orange box\n",
                "margin_x <- 0.15\n",
                "margin_y <- 0.075\n",
                "box <- tibble(x = c(7.83, 8.17, 8.17, 7.83, 7.83) + c(-1, 1, 1, -1, -1) * margin_x,\n",
                "              y = c(4.6, 4.6, 5, 5, 4.6) + c(-1, -1, 1, 1, -1) * margin_y)\n",
                "\n",
                "ggplot(evals_bty, \n",
                "       aes(x = bty_avg, y = score)) +\n",
                "    geom_point() +\n",
                "    labs(x = \"Beauty Score\",\n",
                "         y = \"Teaching Score\",\n",
                "         title = \"Scatterplot of relationship of teaching and beauty scores\") +\n",
                "    geom_path(data = box, \n",
                "              aes(x = x, y = y), \n",
                "              col = \"orange\", size = 1)"
            ]
        },
        {
            "cell_type": "markdown",
            "metadata": {},
            "source": [
                "- Most \"beauty\" scores lie between 2 and 8; most teaching scores lie between 3 and 5\n",
                "- The relationship between teaching score and \"beauty\" score is \"weakly positive\" \n",
                "- The plot suffers from overplotting: fix"
            ]
        },
        {
            "cell_type": "code",
            "execution_count": null,
            "metadata": {},
            "outputs": [],
            "source": [
                "ggplot(evals_bty, \n",
                "    aes(x = bty_avg, y = score)) +\n",
                "    geom_jitter() +\n",
                "    labs(x = \"Beauty Score\", y = \"Teaching Score\",\n",
                "         title = \"(Jittered) Scatterplot of relationship of teaching and beauty scores\") +\n",
                "    geom_path(data = box, \n",
                "              aes(x = x, y = y), \n",
                "              col = \"orange\", size = 1)"
            ]
        },
        {
            "cell_type": "markdown",
            "metadata": {},
            "source": [
                "## Linear regression modeling\n",
                "\n",
                "- $$\\widehat{y} = \\beta_0 + \\beta_1 \\cdot x$$\n",
                "- Method of ordinary least square\n",
                "\n",
                "![Idea of Linear Regression](./fig/best_fit.png)"
            ]
        },
        {
            "cell_type": "code",
            "execution_count": null,
            "metadata": {},
            "outputs": [],
            "source": [
                "ggplot(evals_bty,\n",
                "       aes(x = bty_avg, y = score)) +\n",
                "    geom_point() +\n",
                "    labs(x = \"Beauty Score\", y = \"Teaching Score\",\n",
                "         title = \"Relationship between teaching and beauty scores\") +  \n",
                "    geom_smooth(method = \"lm\", se = FALSE)"
            ]
        },
        {
            "cell_type": "markdown",
            "metadata": {},
            "source": [
                "- Fit the linear regression model using `lm()` and save it in `score_model`\n",
                "- Get the regression table by applying `get_regression_table()` from `moderndive` to `score_model`"
            ]
        },
        {
            "cell_type": "code",
            "execution_count": null,
            "metadata": {},
            "outputs": [],
            "source": [
                "score_model <- lm(score ~ bty_avg, data = evals_bty)\n",
                "evals_line <- score_model %>%\n",
                "    get_regression_table() %>%\n",
                "    pull(estimate)\n",
                "\n",
                "get_regression_table(score_model) %>%\n",
                "    kable(digits = 3,\n",
                "          caption = \"Linear regression table\",\n",
                "          booktabs = TRUE,\n",
                "          linesep = \"\") %>%\n",
                "    kable_styling(font_size = 16) %>% as.character %>% display_html"
            ]
        },
        {
            "cell_type": "markdown",
            "metadata": {},
            "source": [
                "- The intercept $\\beta_0$ and the slope $\\beta_1$ for `bty_avg` in `estimate` column\n",
                "- For every increase of 1 unit in `bty_avg`, there is an *associated* increase of *on average* $\\beta_1$ units of `score`\n",
                "- An *associated* increase is not necessarily a *causal* increase\n",
                "  - The higher \"beauty\" scores may cause higher teaching scores for individuals from wealthier backgrounds tend to have stronger educational backgrounds and higher \"beauty\" scores \n",
                "  - \"correlation is not necessarily causation\"\n",
                "\n",
                "### Learning Check\n",
                "\n",
                "Fit a new simple linear regression using `lm(score ~ age, data = evals_bty)` where `age` is the new explanatory variable $x$. Get information about the \"best-fitting\" line from the regression table by applying the `get_regression_table()` function. How do the regression results match up with the results from your earlier exploratory data analysis?"
            ]
        },
        {
            "cell_type": "code",
            "execution_count": null,
            "metadata": {},
            "outputs": [],
            "source": "# Your Turn"
        },
        {
            "cell_type": "markdown",
            "metadata": {},
            "source": [
                "## One categorical explanatory variable \n",
                "\n",
                "### Example of life expectancy\n",
                "\n",
                "- Differences between continents: Are there significant differences in average life expectancy between the five continents: Africa, the Americas, Asia, Europe, and Oceania?\n",
                "- Differences within continents: How does life expectancy vary within the five continents? \n",
                "  - Is the spread of life expectancy in Africa larger than the spread of life expectancy in Asia?\n",
                "\n",
                "### Exploratory data analysis"
            ]
        },
        {
            "cell_type": "code",
            "execution_count": null,
            "metadata": {},
            "outputs": [],
            "source": [
                "library(gapminder)\n",
                "gapminder2007 <- gapminder %>%\n",
                "    filter(year == 2007) %>%\n",
                "    select(country, lifeExp, continent, gdpPercap)"
            ]
        },
        {
            "cell_type": "markdown",
            "metadata": {},
            "source": [
                "- A numerical outcome variable $y$ (a country's life expectancy)\n",
                "- A single categorical explanatory variable $x$ (the continent that the country is a part of)\n",
                "\n",
                "#### Looking at the raw data values"
            ]
        },
        {
            "cell_type": "code",
            "execution_count": null,
            "metadata": {},
            "outputs": [],
            "source": "glimpse(gapminder2007)"
        },
        {
            "cell_type": "markdown",
            "metadata": {},
            "source": [
                "- `country`: An identification variable of type character/text used to distinguish the 142 countries in the dataset\n",
                "- `lifeExp`: A numerical variable of that country's life expectancy at birth \n",
                "  - This is the outcome variable $y$ of interest\n",
                "- `continent`: A categorical variable with five levels\n",
                "  - Here \"levels\" correspond to the possible categories: Africa, Asia, Americas, Europe, and Oceania\n",
                "  - This is the explanatory variable $x$ of interest\n",
                "- `gdpPercap`: A numerical variable of that country's GDP per capita in US inflation-adjusted dollars that we'll use as another outcome variable $y$ in the *Learning check*"
            ]
        },
        {
            "cell_type": "code",
            "execution_count": null,
            "metadata": {},
            "outputs": [],
            "source": [
                "gapminder2007 %>%\n",
                "    sample_n(5) %>%\n",
                "    kable(digits = 3,\n",
                "          caption = \"Random sample of 5 out of 142 countries\",\n",
                "          booktabs = TRUE,\n",
                "          linesep = \"\") %>%\n",
                "    kable_styling(font_size = 16) %>% as.character %>% display_html"
            ]
        },
        {
            "cell_type": "markdown",
            "metadata": {},
            "source": "#### Computing summary statistics"
        },
        {
            "cell_type": "code",
            "execution_count": null,
            "metadata": {},
            "outputs": [],
            "source": [
                "gapminder2007 %>%\n",
                "    select(lifeExp, continent) %>%\n",
                "    skim()"
            ]
        },
        {
            "cell_type": "markdown",
            "metadata": {},
            "source": "- Why is the mean life expectancy lower than the median?"
        },
        {
            "cell_type": "code",
            "execution_count": null,
            "metadata": {},
            "outputs": [],
            "source": [
                "ggplot(gapminder2007, aes(x = lifeExp)) +\n",
                "    geom_histogram(binwidth = 5, color = \"white\") +\n",
                "    labs(x = \"Life expectancy\", y = \"Number of countries\",\n",
                "         title = \"Histogram of distribution of worldwide life expectancies\")"
            ]
        },
        {
            "cell_type": "markdown",
            "metadata": {},
            "source": "- The data is *left-skewed* (a.k.a. *negatively* skewed)"
        },
        {
            "cell_type": "code",
            "execution_count": null,
            "metadata": {},
            "outputs": [],
            "source": [
                "(faceted_life_exp <- ggplot(gapminder2007, \n",
                "                           aes(x = lifeExp)) +\n",
                "    geom_histogram(binwidth = 5, color = \"white\") +\n",
                "    labs(x = \"Life expectancy\", y = \"Number of countries\",\n",
                "         title = \"Histogram of distribution of worldwide life expectancies\") +\n",
                "    facet_wrap(~continent, nrow = 2))"
            ]
        },
        {
            "cell_type": "markdown",
            "metadata": {},
            "source": [
                "#### Creating data visualizations\n",
                "\n",
                "- An alternative method to visualize the distribution of a numerical variable split by a categorical variable is by a side-by-side boxplot\n",
                "- Map `continent` to the $x$-axis and different life expectancies within each continent on the $y$-axis"
            ]
        },
        {
            "cell_type": "code",
            "execution_count": null,
            "metadata": {},
            "outputs": [],
            "source": [
                "ggplot(gapminder2007, \n",
                "       aes(x = continent, y = lifeExp)) +\n",
                "    geom_boxplot() +\n",
                "    labs(x = \"Continent\", y = \"Life expectancy\",\n",
                "         title = \"Life expectancy by continent\")"
            ]
        },
        {
            "cell_type": "markdown",
            "metadata": {},
            "source": [
                "- Compute the median and mean life expectancy for each continent\n",
                ""
            ]
        },
        {
            "cell_type": "code",
            "execution_count": null,
            "metadata": {},
            "outputs": [],
            "source": [
                "lifeExp_by_continent <- gapminder2007 %>%\n",
                "    group_by(continent) %>%\n",
                "    summarize(median = median(lifeExp), \n",
                "              mean = mean(lifeExp)) %>%\n",
                "    kable(digits = 3,\n",
                "          caption = \"Life expectancy by continent\",\n",
                "          booktabs = TRUE,\n",
                "          linesep = \"\") %>%\n",
                "    kable_styling(font_size = 16) %>% as.character %>% display_html"
            ]
        },
        {
            "cell_type": "markdown",
            "metadata": {},
            "source": [
                "### Learning Check\n",
                "\n",
                "Conduct a new exploratory data analysis with the same explanatory variable $x$ being `continent` but with `gdpPercap` as the new outcome variable $y$. What can you say about the differences in GDP per capita between continents based on this exploration?"
            ]
        },
        {
            "cell_type": "code",
            "execution_count": null,
            "metadata": {},
            "outputs": [],
            "source": "# Your Turn"
        },
        {
            "cell_type": "markdown",
            "metadata": {},
            "source": [
                "### Linear regression\n",
                "\n",
                "- Fit the linear regression model using the `lm(y ~ x, data)` function and save it in `lifeExp_model`\n",
                "- Get the regression table by `get_regression_table()` from `moderndive` to `lifeExp_model`"
            ]
        },
        {
            "cell_type": "code",
            "execution_count": null,
            "metadata": {},
            "outputs": [],
            "source": [
                "lifeExp_model <- lm(lifeExp ~ continent, data = gapminder2007)\n",
                "get_regression_table(lifeExp_model) %>%\n",
                "    kable(digits = 3,\n",
                "          caption = \"Linear regression table\",\n",
                "          booktabs = TRUE,\n",
                "          linesep = \"\") %>%\n",
                "    kable_styling(font_size = 16) %>% as.character %>% display_html"
            ]
        },
        {
            "cell_type": "markdown",
            "metadata": {},
            "source": [
                "- Why was Africa chosen as the \"baseline for comparison\" group?\n",
                "  - Because it comes first alphabetically of the five continents\n",
                "  - By default R arranges factors/categorical variables in alphanumeric order\n",
                "  - One can change this baseline group by manipulating the variable `continent`'s factor \"levels\" using `forcats` \n",
                "- THE regression equation for single categorical variable $$\n",
                "\\begin{multline}\n",
                "  \\widehat{y} = \\beta_0 + \\beta_{\\text{Amer}}\\,\\mathbb{1}_{\\text{Amer}}(x) + \\beta_{\\text{Asia}}\\,\\mathbb{1}_{\\text{Asia}}(x) + \\beta_{\\text{Euro}}\\,\\mathbb{1}_{\\text{Euro}}(x) + \\beta_{\\text{Ocean}}\\,\\mathbb{1}_{\\text{Ocean}}(x)\n",
                "\\end{multline}\n",
                "$$\n",
                "\n",
                "  - Here $$\\mathbb{1}_{A}(x) = \\begin{cases}\n",
                "1 & \\text{if } x \\text{ is in } A \\\\\n",
                "0 & \\text{if otherwise}\n",
                "\\end{cases}\n",
                "$$\n",
                "\n",
                "### Learning Check\n",
                "\n",
                "Fit a new linear regression using `lm(gdpPercap ~ continent, data = gapminder2007)` where `gdpPercap` is the new outcome variable $y$. Get information about the \"best-fitting\" line from the regression table by applying the `get_regression_table()` function. How do the regression results match up with the results from your previous exploratory data analysis?"
            ]
        },
        {
            "cell_type": "code",
            "execution_count": null,
            "metadata": {},
            "outputs": [],
            "source": ""
        },
        {
            "cell_type": "markdown",
            "metadata": {},
            "source": [
                "## Related topics\n",
                "\n",
                "### Correlation is not necessarily causation\n",
                "\n",
                "- \"beauty\" score is positively correlated with teaching `score` \n",
                "  - But we can't make any statements about \"beauty\" scores' direct causal effect on teaching `score` without more information\n",
                "- A doctor finds that patients who slept with their shoes on tended to wake up more with headaches \n",
                "  - \"Sleeping with shoes on causes headaches!\"\n",
                "  - If someone is sleeping with their shoes on, it's potentially because they are intoxicated from alcohol \n",
                "  - Higher levels of drinking leads to more hangovers and hence more headaches\n",
                "  - The amount of alcohol consumption is known as a *confounding/lurking* variable\n",
                "    \n",
                "- Y is a *response* variable; \"waking up with a headache\"\n",
                "- X is a *treatment* variable whose causal effect we are interested in; \"sleeping with shoes on\"\n",
                "- Z is a *confounding* variable that affects both X and Y, thereby \"confounding\" their relationship; \"alcohol\"\n",
                "\n",
                "<img src=\"./fig/flowchart.009.png\" alt=\"Relationship of Variables\" width=\"400\"/>\n",
                "\n",
                "### Interesting\n",
                "\n",
                "- [Spurious Correlations](http://www.tylervigen.com/spurious-correlations)"
            ]
        }
    ],
    "metadata": {
        "anaconda-cloud": "",
        "kernelspec": {
            "display_name": "R",
            "langauge": "R",
            "name": "ir"
        },
        "language_info": {
            "codemirror_mode": "r",
            "file_extension": ".r",
            "mimetype": "text/x-r-source",
            "name": "R",
            "pygments_lexer": "r",
            "version": "4.1.3"
        }
    },
    "nbformat": 4,
    "nbformat_minor": 1
}
